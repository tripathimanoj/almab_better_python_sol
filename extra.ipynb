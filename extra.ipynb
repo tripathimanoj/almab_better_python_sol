{
 "cells": [
  {
   "cell_type": "code",
   "execution_count": 2,
   "metadata": {},
   "outputs": [
    {
     "name": "stdout",
     "output_type": "stream",
     "text": [
      "Average and Sum of the above numbers are: 14.333333333333334 43.0\n"
     ]
    }
   ],
   "source": [
    "count = 0\n",
    "n_sum = 0\n",
    "\n",
    "while True:\n",
    "    number = int(input())\n",
    "    \n",
    "    if number == 0:\n",
    "        break\n",
    "    \n",
    "    n_sum += number\n",
    "    count += 1\n",
    "\n",
    "if count == 0:\n",
    "    avg = 0 \n",
    "else:\n",
    "    avg =n_sum / count\n",
    "\n",
    "avg=float(avg)\n",
    "n_sum=float(n_sum)\n",
    "print(f\"Average and Sum of the above numbers are: {avg} {n_sum}\")"
   ]
  },
  {
   "cell_type": "code",
   "execution_count": null,
   "metadata": {},
   "outputs": [],
   "source": []
  },
  {
   "cell_type": "code",
   "execution_count": 3,
   "metadata": {},
   "outputs": [
    {
     "name": "stdout",
     "output_type": "stream",
     "text": [
      "Midpoint: 3.0 3.0\n"
     ]
    }
   ],
   "source": [
    "x1 = float(input())\n",
    "y1 = float(input())\n",
    "\n",
    "x2 = float(input())\n",
    "y2 = float(input())\n",
    "\n",
    "midpoint_x = (x1 + x2) / 2\n",
    "midpoint_y = (y1 + y2) / 2\n",
    "\n",
    "print(\"Midpoint:\",(x1+x2)/2,(y1+y2)/2)"
   ]
  },
  {
   "cell_type": "code",
   "execution_count": null,
   "metadata": {},
   "outputs": [],
   "source": []
  }
 ],
 "metadata": {
  "kernelspec": {
   "display_name": "base",
   "language": "python",
   "name": "python3"
  },
  "language_info": {
   "codemirror_mode": {
    "name": "ipython",
    "version": 3
   },
   "file_extension": ".py",
   "mimetype": "text/x-python",
   "name": "python",
   "nbconvert_exporter": "python",
   "pygments_lexer": "ipython3",
   "version": "3.11.5"
  }
 },
 "nbformat": 4,
 "nbformat_minor": 2
}
