{
 "cells": [
  {
   "cell_type": "code",
   "execution_count": null,
   "metadata": {},
   "outputs": [],
   "source": [
    "import pandas as pd\n",
    "data=pd.read_csv(\"imdb_data.csv\")"
   ]
  },
  {
   "cell_type": "code",
   "execution_count": null,
   "metadata": {},
   "outputs": [],
   "source": [
    "data.columns"
   ]
  },
  {
   "cell_type": "code",
   "execution_count": null,
   "metadata": {},
   "outputs": [],
   "source": [
    "data.head()"
   ]
  },
  {
   "cell_type": "code",
   "execution_count": null,
   "metadata": {},
   "outputs": [],
   "source": [
    "data.info()"
   ]
  },
  {
   "cell_type": "code",
   "execution_count": null,
   "metadata": {},
   "outputs": [],
   "source": [
    "data.describe()"
   ]
  },
  {
   "cell_type": "code",
   "execution_count": null,
   "metadata": {},
   "outputs": [],
   "source": [
    "eng_movie=data.loc[:,'original_language']=='en'\n",
    "data[eng_movie].shape\n",
    "\n",
    "print(f\"english language movie length is: {data[eng_movie].shape}\")"
   ]
  },
  {
   "cell_type": "code",
   "execution_count": null,
   "metadata": {},
   "outputs": [],
   "source": [
    "data['original_language'].shape"
   ]
  },
  {
   "cell_type": "code",
   "execution_count": null,
   "metadata": {},
   "outputs": [],
   "source": [
    "data['title'].head()"
   ]
  },
  {
   "cell_type": "code",
   "execution_count": null,
   "metadata": {},
   "outputs": [],
   "source": [
    "def myupper(col):\n",
    "    return col.upper()\n",
    "\n",
    "data['title'].apply(myupper)"
   ]
  },
  {
   "cell_type": "code",
   "execution_count": null,
   "metadata": {},
   "outputs": [],
   "source": [
    "for i in data['title']:\n",
    "    print(i.upper())"
   ]
  },
  {
   "cell_type": "code",
   "execution_count": null,
   "metadata": {},
   "outputs": [],
   "source": []
  },
  {
   "cell_type": "code",
   "execution_count": null,
   "metadata": {},
   "outputs": [],
   "source": [
    "print('*'*50)"
   ]
  },
  {
   "cell_type": "code",
   "execution_count": null,
   "metadata": {},
   "outputs": [],
   "source": [
    "import pandas as pd\n",
    "import numpy as np"
   ]
  },
  {
   "cell_type": "code",
   "execution_count": null,
   "metadata": {},
   "outputs": [],
   "source": [
    "data=pd.read_csv(\"imdb_data.csv\")\n",
    "len(data.columns)"
   ]
  },
  {
   "cell_type": "code",
   "execution_count": null,
   "metadata": {},
   "outputs": [],
   "source": [
    "'''import pandas as pd\n",
    "import time\n",
    "start_time = time.time()\n",
    "my_cols = data.columns\n",
    "\n",
    "for col_name in my_cols:\n",
    "    for idx, ele in enumerate(data[col_name]):\n",
    "        if pd.isna(ele):\n",
    "            data.at[idx, col_name] = 1\n",
    "end_time=time.time()\n",
    "\n",
    "print(f\"total time is:{end_time-start_time}\")'''\n",
    "\n",
    "'''import pandas as pd\n",
    "import time\n",
    "\n",
    "# Assuming 'data' is your DataFrame\n",
    "my_cols = data.columns\n",
    "\n",
    "start_time = time.time()\n",
    "\n",
    "for col_name in my_cols:\n",
    "    for idx, ele in enumerate(data[col_name]):\n",
    "        if pd.notna(ele) and isinstance(ele, (int, float)):\n",
    "            data.at[idx, col_name] = ele ** 150\n",
    "\n",
    "end_time = time.time()\n",
    "\n",
    "execution_time = end_time - start_time\n",
    "print(f\"Execution time: {execution_time} seconds\")\n",
    "\n",
    "# Print the updated DataFrame\n",
    "data.head()\n",
    "'''\n"
   ]
  },
  {
   "cell_type": "code",
   "execution_count": null,
   "metadata": {},
   "outputs": [],
   "source": [
    "def process_column(col):\n",
    "\n",
    "    from tqdm import tqdm\n",
    "    import time\n",
    "    \n",
    "    start_time = time.time()\n",
    "    for idx, ele in enumerate(tqdm(col)):\n",
    "        time.sleep(1)\n",
    "        try:\n",
    "            if pd.notna(ele) and isinstance(ele, (int, float)):\n",
    "                col.at[idx] = ele ** 150\n",
    "        except (OverflowError, ValueError) as e:\n",
    "            # Handle the overflow error, for example, set the value to a specific value or NaN\n",
    "            col.at[idx] = float('nan')\n",
    "\n",
    "    end_time = time.time()\n",
    "    total_time=end_time - start_time\n",
    "    print(total_time)\n",
    "    return col\n"
   ]
  },
  {
   "cell_type": "markdown",
   "metadata": {},
   "source": [
    "----------------------------------------------------------------------------------------------------------------------------"
   ]
  },
  {
   "cell_type": "code",
   "execution_count": null,
   "metadata": {},
   "outputs": [],
   "source": [
    "data=pd.read_csv('imdb_data.csv')\n",
    "data.head(2)"
   ]
  },
  {
   "cell_type": "code",
   "execution_count": null,
   "metadata": {},
   "outputs": [],
   "source": [
    "'''\n",
    "def process_column(col):\n",
    "    for idx, ele in enumerate(col):\n",
    "        try:\n",
    "            if pd.notna(ele) and isinstance(ele, (int, float)):\n",
    "                col.at[idx] = ele ** 150\n",
    "        except OverflowError as e:\n",
    "            # Handle the overflow error, for example, set the value to a specific value or NaN\n",
    "            col.at[idx] = float('nan')\n",
    "    return col\n",
    "'''\n",
    "\n"
   ]
  },
  {
   "cell_type": "code",
   "execution_count": null,
   "metadata": {},
   "outputs": [],
   "source": [
    "import pandas as pd\n",
    "data=pd.read_csv('imdb_data.csv')\n",
    "data.head(2)"
   ]
  },
  {
   "cell_type": "code",
   "execution_count": null,
   "metadata": {},
   "outputs": [],
   "source": [
    "import pandas as pd\n",
    "from tqdm import tqdm\n",
    "import time\n",
    "\n",
    "\n",
    "start_time = time.time()\n",
    "\n",
    "for col_name in (tqdm(data.columns)):\n",
    "    time.sleep(1)\n",
    "    for idx, ele in enumerate(data[col_name]):\n",
    "        try:\n",
    "            if pd.notna(ele) and isinstance(ele, (int, float)):\n",
    "                data.at[idx, col_name] = ele ** 100\n",
    "                \n",
    "        except (OverflowError, ValueError) as e:\n",
    "            data.at[idx, col_name] = float('nan')\n",
    "\n",
    "end_time = time.time()\n",
    "\n",
    "execution_time = end_time - start_time\n",
    "print(f\"Execution time: {execution_time} seconds\")\n",
    "\n",
    "# Print the updated DataFrame\n",
    "data.head(2)"
   ]
  },
  {
   "cell_type": "code",
   "execution_count": null,
   "metadata": {},
   "outputs": [],
   "source": [
    "import pandas as pd\n",
    "from tqdm import tqdm\n",
    "import time\n",
    "\n",
    "def process_dataframe_single_function(data):\n",
    "    start_time = time.time()\n",
    "\n",
    "    for col_name in tqdm(data.columns, desc=\"Processing columns\"):\n",
    "        time.sleep(1)\n",
    "        for idx, ele in enumerate(data[col_name]):\n",
    "            try:\n",
    "                if pd.notna(ele) and isinstance(ele, (int, float)):\n",
    "                    data.at[idx, col_name] = ele ** 100\n",
    "            except (OverflowError, ValueError) as e:\n",
    "                data.at[idx, col_name] = float('nan')\n",
    "\n",
    "    end_time = time.time()\n",
    "\n",
    "    execution_time = end_time - start_time\n",
    "    print(f\"Execution time: {execution_time} seconds\")\n",
    "\n",
    "    return data\n",
    "\n",
    "# Assuming 'data' is your DataFrame\n",
    "# Test the function with your DataFrame\n",
    "processed_data = data.apply(process_dataframe_single_function(data))\n",
    "\n",
    "# Print the updated DataFrame\n",
    "print(processed_data)\n"
   ]
  },
  {
   "cell_type": "code",
   "execution_count": null,
   "metadata": {},
   "outputs": [],
   "source": [
    "#!pip install pandarallel\n",
    "import pandas as pd\n",
    "data=pd.read_csv('imdb_data.csv')"
   ]
  },
  {
   "cell_type": "code",
   "execution_count": null,
   "metadata": {},
   "outputs": [],
   "source": [
    "processed_data.head(2)"
   ]
  },
  {
   "cell_type": "code",
   "execution_count": 8,
   "metadata": {},
   "outputs": [
    {
     "name": "stdout",
     "output_type": "stream",
     "text": [
      "0     7\n",
      "1     9\n",
      "2    11\n",
      "3    13\n",
      "4    15\n",
      "dtype: int64 0.0012347698211669922\n"
     ]
    }
   ],
   "source": [
    "import pandas as pd\n",
    "import time\n",
    "stime=time.time()\n",
    "# create a sample dataframe\n",
    "df = pd.DataFrame({'A': [1, 2, 3, 4, 5], 'B': [6, 7, 8, 9, 10]})\n",
    "\n",
    "# define a function to apply to each row of the dataframe\n",
    "def my_func(row):\n",
    "    return row['A'] + row['B']\n",
    "\n",
    "# use pandarallel to apply the function to each row in parallel\n",
    "result = df.apply(my_func, axis=1)\n",
    "etime=time.time()\n",
    "totaltime1=etime-stime\n",
    "# print the result\n",
    "print(result,totaltime1)"
   ]
  },
  {
   "cell_type": "code",
   "execution_count": null,
   "metadata": {},
   "outputs": [],
   "source": []
  },
  {
   "cell_type": "code",
   "execution_count": 1,
   "metadata": {},
   "outputs": [
    {
     "name": "stdout",
     "output_type": "stream",
     "text": [
      "INFO: Pandarallel will run on 8 workers.\n",
      "INFO: Pandarallel will use standard multiprocessing data transfer (pipe) to transfer data between the main process and workers.\n",
      "\n",
      "WARNING: You are on Windows. If you detect any issue with pandarallel, be sure you checked out the Troubleshooting page:\n",
      "https://nalepae.github.io/pandarallel/troubleshooting/\n",
      "0     7\n",
      "1     9\n",
      "2    11\n",
      "3    13\n",
      "4    15\n",
      "dtype: int64 2.401278257369995\n"
     ]
    }
   ],
   "source": [
    "\n",
    "import pandas as pd\n",
    "from pandarallel import pandarallel\n",
    "import time\n",
    "st=time.time()\n",
    "# initialize pandarallel\n",
    "pandarallel.initialize()\n",
    "\n",
    "# create a sample dataframe\n",
    "df = pd.DataFrame({'A': [1, 2, 3, 4, 5], 'B': [6, 7, 8, 9, 10]})\n",
    "\n",
    "# define a function to apply to each row of the dataframe\n",
    "def my_func(row):\n",
    "    return row['A'] + row['B']\n",
    "\n",
    "# use pandarallel to apply the function to each row in parallel\n",
    "result = df.parallel_apply(my_func, axis=1)\n",
    "et=time.time()\n",
    "tt=et-st\n",
    "# print the result\n",
    "print(result,tt)"
   ]
  },
  {
   "cell_type": "code",
   "execution_count": null,
   "metadata": {},
   "outputs": [],
   "source": []
  }
 ],
 "metadata": {
  "kernelspec": {
   "display_name": "base",
   "language": "python",
   "name": "python3"
  },
  "language_info": {
   "codemirror_mode": {
    "name": "ipython",
    "version": 3
   },
   "file_extension": ".py",
   "mimetype": "text/x-python",
   "name": "python",
   "nbconvert_exporter": "python",
   "pygments_lexer": "ipython3",
   "version": "3.11.5"
  }
 },
 "nbformat": 4,
 "nbformat_minor": 2
}
