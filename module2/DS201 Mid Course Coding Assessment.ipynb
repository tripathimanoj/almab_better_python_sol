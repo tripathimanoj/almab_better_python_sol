{
 "cells": [
  {
   "cell_type": "markdown",
   "metadata": {},
   "source": [
    "#### This notebook contains 10 questions from DS201 Mid Course Coding Assessment."
   ]
  },
  {
   "cell_type": "markdown",
   "metadata": {},
   "source": [
    "Remove elements\n",
    "Easy\n",
    "solved\n",
    "Write a Python program to remove all elements from a given list present in another list. (Using list comprehension)\n",
    "\n",
    "Example 1:\n",
    "Input:\n",
    "[1,2,3,4,5,6,7,8,9,10]\n",
    "\n",
    "[2,4,6,8]\n",
    "\n",
    "Output:\n",
    "[1, 3, 5, 7, 9, 10]"
   ]
  },
  {
   "cell_type": "code",
   "execution_count": 1,
   "metadata": {},
   "outputs": [
    {
     "name": "stdout",
     "output_type": "stream",
     "text": [
      "[1, 3, 5, 7, 9, 10]\n"
     ]
    }
   ],
   "source": [
    "# Write your code here\n",
    "\n",
    "class remove_ele:      # creating class.\n",
    "\n",
    "    def __init__(self,l1,l2):      # defining constructor.\n",
    "\n",
    "        self.l1=l1             # class attributes.\n",
    "        self.l2=l2\n",
    "\n",
    "    def rem_ele(self):    # custom method.\n",
    "\n",
    "        try:    # exception handlling.\n",
    "\n",
    "          res=[x for x in self.l1 if x not in self.l2]         # list comprehension accourding to the given condition.\n",
    "          print(res)\n",
    "\n",
    "        except Exception as e:\n",
    "\n",
    "            print(\"Error is :\",e)\n",
    "\n",
    "r_e=remove_ele(eval(input()),eval(input()))          #  creating object.\n",
    "\n",
    "r_e.rem_ele()   # method calling."
   ]
  },
  {
   "cell_type": "markdown",
   "metadata": {},
   "source": [
    "Count String Length\n",
    "Easy\n",
    "solved\n",
    "Write a Python program to calculate the length of a string.\n",
    "\n",
    "Example 1:\n",
    "Input:\n",
    "data science\n",
    "\n",
    "Output:\n",
    "12"
   ]
  },
  {
   "cell_type": "code",
   "execution_count": 2,
   "metadata": {},
   "outputs": [
    {
     "name": "stdout",
     "output_type": "stream",
     "text": [
      "12\n"
     ]
    }
   ],
   "source": [
    "#write your code inside main function\n",
    "'''def  main():\n",
    "  a = input()\n",
    "  b= len(a)\n",
    "  print(b)\n",
    "  \n",
    "main()'''\n",
    "\n",
    "class count_str_len:         # creating class.\n",
    "\n",
    "  def __init__(self,data):  # creating constructor.\n",
    "\n",
    "    self.data=data              # class attributes.\n",
    "\n",
    "  def count_len(self):       # custom method accourding to the condition given.\n",
    "\n",
    "    try:                                  # exception handlling.\n",
    "\n",
    "      length_data=len(self.data)\n",
    "      print(length_data)\n",
    "\n",
    "    except Exception as e:\n",
    "      print(\"Error is : \",e)\n",
    "\n",
    "count_strlen=count_str_len(input())     # object creating.\n",
    "count_strlen.count_len()                         # method calling."
   ]
  },
  {
   "cell_type": "markdown",
   "metadata": {},
   "source": [
    "Multiples of String\n",
    "Medium\n",
    "solved\n",
    "Write a Python program to get a string which is n (non-negative integer) copies of a given string.\n",
    "\n",
    "Example 1:\n",
    "Input:\n",
    "abc\n",
    "\n",
    "2\n",
    "\n",
    "Output:\n",
    "abcabc"
   ]
  },
  {
   "cell_type": "code",
   "execution_count": 4,
   "metadata": {},
   "outputs": [
    {
     "name": "stdout",
     "output_type": "stream",
     "text": [
      "abcabc\n"
     ]
    }
   ],
   "source": [
    "# Write your code here\n",
    "\n",
    "'''a=input()\n",
    "b=int(input())\n",
    "\n",
    "if b>=0:\n",
    "  c=a*b\n",
    "  print(c)'''\n",
    "\n",
    "class n_copies:\n",
    "           # creating class.\n",
    "\n",
    "    def __init__(self,input_str,num):          # defining constructor.\n",
    "        self.input_str=input_str               # class attributes.\n",
    "        self.num=num\n",
    "\n",
    "    def copies(self):                          # defining custom method accourding to the condition given.\n",
    "\n",
    "        try:               # exception handlling.\n",
    "\n",
    "            res=self.input_str*self.num\n",
    "            print(res)\n",
    "\n",
    "        except Exception as e:\n",
    "\n",
    "            print(\"Error is :\",e)\n",
    "\n",
    "n_cop=n_copies(input(),int(input()))         # object creating.\n",
    "n_cop.copies()                       # method calling."
   ]
  },
  {
   "cell_type": "markdown",
   "metadata": {},
   "source": [
    "find longest word\n",
    "Medium\n",
    "solved\n",
    "Write a Python function that takes a list of words and return the longest word and the length of the longest one.\n",
    "\n",
    "Example 1:\n",
    "Input:\n",
    "king queen knight\n",
    "\n",
    "Output:\n",
    "(6, 'knight')"
   ]
  },
  {
   "cell_type": "code",
   "execution_count": 19,
   "metadata": {},
   "outputs": [
    {
     "name": "stdout",
     "output_type": "stream",
     "text": [
      "(6, 'knight')\n"
     ]
    }
   ],
   "source": [
    "#write your code here\n",
    "\n",
    "'''\n",
    "data=\"king queen knight\".split(' ')\n",
    "max_word=max(data,key=len)\n",
    "out=len(max_word),max_word\n",
    "print(out)'''\n",
    "\n",
    "class longest_word:  # creating class.\n",
    "\n",
    "    def __init__(self,data):     # defining constructor.\n",
    "\n",
    "        self.data=data.split(' ')    # class attributes.\n",
    "\n",
    "    def get_output(self):           # custom method accourding to given condition.\n",
    "\n",
    "        try:                  # exception handlling.\n",
    "\n",
    "            result=len(max(self.data,key=len)),max(self.data,key=len)\n",
    "            print(result)\n",
    "\n",
    "        except Exception as e:\n",
    "\n",
    "            print(\"Error is :\",e)\n",
    "\n",
    "longest_w=longest_word(input())        # object creating.\n",
    "longest_w.get_output()                         # method calling."
   ]
  },
  {
   "cell_type": "markdown",
   "metadata": {},
   "source": [
    "Remove character of n index\n",
    "Easy\n",
    "solved\n",
    "Write a Python program to remove the nth index character from a nonempty string.\n",
    "\n",
    "Example 1:\n",
    "Input:\n",
    "python\n",
    "\n",
    "0\n",
    "\n",
    "Output:\n",
    "ython"
   ]
  },
  {
   "cell_type": "code",
   "execution_count": 32,
   "metadata": {},
   "outputs": [
    {
     "name": "stdout",
     "output_type": "stream",
     "text": [
      "ython\n"
     ]
    }
   ],
   "source": [
    "# Write your code here\n",
    "\n",
    "\n",
    "'''n=int(input())\n",
    "d=[]\n",
    "for i in data:\n",
    "    d.append(i)\n",
    "d.pop(n)\n",
    "s=''\n",
    "for ele in d:\n",
    "    s=s+ele\n",
    "print(s)'''\n",
    "\n",
    "class remove_index:     # creating class.\n",
    "\n",
    "    def __init__(self,strn,n):    # creating constructor.\n",
    "        self.strn=strn            # defing class attributes.\n",
    "        self.n=n\n",
    "\n",
    "    def get_output(self):         # creating custom function accourding to given condition.\n",
    "\n",
    "        try:                      # exception handlling.\n",
    "\n",
    "            data=[]\n",
    "            for i in self.strn:\n",
    "                data.append(i)\n",
    "            data.pop(self.n)\n",
    "\n",
    "            new_data=''\n",
    "            for ele in data:\n",
    "                new_data=new_data+ele\n",
    "            \n",
    "            print(new_data)\n",
    "\n",
    "        except Exception as e:\n",
    "            print(\"Error is :\",e)\n",
    "\n",
    "remove_ith=remove_index(input(),int(input()))        # creating object.\n",
    "remove_ith.get_output()                              # calling method."
   ]
  },
  {
   "cell_type": "markdown",
   "metadata": {},
   "source": [
    "Swap string character\n",
    "Easy\n",
    "solved\n",
    "Write a Python program to change a given string to a new string where the first and last chars have been exchanged.\n",
    "\n",
    "Example 1:\n",
    "Input:\n",
    "python\n",
    "\n",
    "Output:\n",
    "nythop"
   ]
  },
  {
   "cell_type": "code",
   "execution_count": 16,
   "metadata": {},
   "outputs": [
    {
     "name": "stdout",
     "output_type": "stream",
     "text": [
      "nythop\n"
     ]
    }
   ],
   "source": [
    "# Write your code here\n",
    "\n",
    "# str1 = input()\n",
    "\n",
    "\n",
    "class Swap_char:     # creating class.\n",
    "\n",
    "    def __init__(self,str1):     # defining constructor.\n",
    "        \n",
    "        self.str1=str1           # defining class attributes.\n",
    "\n",
    "    def get_output(self):        # creating custom method according given condition.\n",
    "\n",
    "        try:                     # exception handling.\n",
    "           \n",
    "            new_str=[]\n",
    "            for i in self.str1:\n",
    "                new_str.append(i)\n",
    "            fst_char=new_str[0]\n",
    "            lst_char=new_str[-1]\n",
    "            new_str[0],new_str[-1]=lst_char,fst_char     # swapping character.\n",
    "            updated_str=''\n",
    "            for i in new_str:\n",
    "                updated_str+=i\n",
    "            print(updated_str)\n",
    "\n",
    "        except Exception as e:\n",
    "           \n",
    "            print(\"Error is :\",e)\n",
    "\n",
    "swap_char=Swap_char(input())                             # creating object.\n",
    "swap_char.get_output()                                   # method calling."
   ]
  },
  {
   "cell_type": "code",
   "execution_count": null,
   "metadata": {},
   "outputs": [],
   "source": []
  }
 ],
 "metadata": {
  "kernelspec": {
   "display_name": "Python 3",
   "language": "python",
   "name": "python3"
  },
  "language_info": {
   "codemirror_mode": {
    "name": "ipython",
    "version": 3
   },
   "file_extension": ".py",
   "mimetype": "text/x-python",
   "name": "python",
   "nbconvert_exporter": "python",
   "pygments_lexer": "ipython3",
   "version": "3.11.5"
  }
 },
 "nbformat": 4,
 "nbformat_minor": 2
}
