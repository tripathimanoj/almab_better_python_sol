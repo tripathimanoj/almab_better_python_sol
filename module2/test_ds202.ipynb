{
 "cells": [
  {
   "cell_type": "code",
   "execution_count": 2,
   "metadata": {},
   "outputs": [
    {
     "name": "stdout",
     "output_type": "stream",
     "text": [
      "ta\n",
      "tatatata\n"
     ]
    }
   ],
   "source": [
    "'''\n",
    "\n",
    "Copy last 2 character 4 times\n",
    "Easy\n",
    "unsolved\n",
    "Write a Python function to get a string made of 4 copies of the last two characters of a specified string (length must be at least 2).\n",
    "\n",
    "Example 1:\n",
    "Input:\n",
    "code\n",
    "\n",
    "Output:\n",
    "dededede\n",
    "\n",
    "'''\n",
    "\n",
    "mystr=input(\"Enter string: \")\n",
    "data_to_be_append=mystr[-2:]\n",
    "print(data_to_be_append)\n",
    "out=data_to_be_append*4\n",
    "print(out)"
   ]
  },
  {
   "cell_type": "code",
   "execution_count": null,
   "metadata": {},
   "outputs": [],
   "source": [
    "class char_4_times:  # creating class\n",
    "\n",
    "    def __init__(self,mystr):    # defining constructor\n",
    "        self.mystr=mystr         # defining class variable\n",
    "\n",
    "    def get_output(self):        # defining class method\n",
    "        no_of_copies=4\n",
    "        data_to_be_append=self.mystr[-2:]\n",
    "        result=data_to_be_append*no_of_copies\n",
    "        print(result)\n",
    "\n",
    "no_copies=char_4_times(input())       # creating class object\n",
    "no_copies.get_output()                # method calling."
   ]
  },
  {
   "cell_type": "markdown",
   "metadata": {},
   "source": [
    "For example, with a left shift of 3, D would be replaced by A, E would become B, and so on. The method is named after Julius Caesar, who used it in his private correspondence.\n",
    "\n",
    "a b c d e f g h i j  k   l   m   n   o   p   q   r   s   t   u   v   w   x   y  z\n",
    "1 2 3 4 5 6 7 8 9 10 11  12  13  14  15  16  17  18  19  20  21  22  23  24  25 26\n",
    "\n",
    "Example 1:\n",
    "Input:\n",
    "abcd\n",
    "\n",
    "6\n",
    "\n",
    "Output:\n",
    "['g', 'h', 'i', 'j']\n",
    "\n",
    "char(94)"
   ]
  },
  {
   "cell_type": "code",
   "execution_count": 35,
   "metadata": {},
   "outputs": [
    {
     "ename": "TypeError",
     "evalue": "ord() expected string of length 1, but int found",
     "output_type": "error",
     "traceback": [
      "\u001b[1;31m---------------------------------------------------------------------------\u001b[0m",
      "\u001b[1;31mTypeError\u001b[0m                                 Traceback (most recent call last)",
      "\u001b[1;32mf:\\python_rev\\alma_git_hub\\almab_better_python_sol\\module2\\ds202.ipynb Cell 4\u001b[0m line \u001b[0;36m1\n\u001b[1;32m----> <a href='vscode-notebook-cell:/f%3A/python_rev/alma_git_hub/almab_better_python_sol/module2/ds202.ipynb#X16sZmlsZQ%3D%3D?line=0'>1</a>\u001b[0m \u001b[39mord\u001b[39;49m(\u001b[39m94\u001b[39;49m)\n",
      "\u001b[1;31mTypeError\u001b[0m: ord() expected string of length 1, but int found"
     ]
    }
   ],
   "source": [
    "ord(94)"
   ]
  },
  {
   "cell_type": "markdown",
   "metadata": {},
   "source": [
    "Write a Python program to strip a set of characters from a string.\n",
    "\n",
    "Example 1:\n",
    "Input:\n",
    "AI is going to rule the world aeiou\n",
    "\n",
    "Output:\n",
    "AI s gng t rl th wrld"
   ]
  },
  {
   "cell_type": "code",
   "execution_count": 52,
   "metadata": {},
   "outputs": [
    {
     "name": "stdout",
     "output_type": "stream",
     "text": [
      "AI s gong to rl th world \n"
     ]
    }
   ],
   "source": [
    "mystring=input()\n",
    "set_to_strip=mystring.split(' ')[-1]\n",
    "new_str=\"\"\n",
    "for i in mystring:\n",
    "    if i not in set_to_strip:\n",
    "        new_str += i\n",
    "\n",
    "print(new_str)\n",
    "print(len(new_str))\n"
   ]
  },
  {
   "cell_type": "code",
   "execution_count": 1,
   "metadata": {},
   "outputs": [
    {
     "data": {
      "text/plain": [
       "'Duplicate character removing\\nHard\\nunsolved\\nWrite a Python program to remove all consecutive duplicates of a given string.\\n\\nSample\\n\\ninput- xxxxxyyyyyy\\n\\nOutput- xy\\n\\nExample 1:\\nInput:\\napple\\n\\nOutput:\\naple'"
      ]
     },
     "execution_count": 1,
     "metadata": {},
     "output_type": "execute_result"
    }
   ],
   "source": [
    "'''Duplicate character removing\n",
    "Hard\n",
    "unsolved\n",
    "Write a Python program to remove all consecutive duplicates of a given string.\n",
    "\n",
    "Sample\n",
    "\n",
    "input- xxxxxyyyyyy\n",
    "\n",
    "Output- xy\n",
    "\n",
    "Example 1:\n",
    "Input:\n",
    "apple\n",
    "\n",
    "Output:\n",
    "aple'''"
   ]
  },
  {
   "cell_type": "code",
   "execution_count": 5,
   "metadata": {},
   "outputs": [
    {
     "name": "stdout",
     "output_type": "stream",
     "text": [
      "aple\n"
     ]
    }
   ],
   "source": [
    "'''data=input()\n",
    "new_data=''\n",
    "\n",
    "for i in data:\n",
    "    if i not in new_data:\n",
    "        new_data+=i\n",
    "\n",
    "print(data)\n",
    "print(new_data)   '''\n",
    "\n",
    "class remove_dupli:       # creating class\n",
    "\n",
    "    def __init__(self,data):    # defining constructor\n",
    "        self.data=data          # defining class variables \n",
    "\n",
    "    def get_res(self):          # custom method\n",
    "        new_data=''\n",
    "        for i in self.data:\n",
    "            if i not in new_data:\n",
    "                new_data+=i\n",
    "        \n",
    "        print(new_data)\n",
    "\n",
    "rem_dupli=remove_dupli(input())        # creating class\n",
    "rem_dupli.get_res()                    # method calling\n"
   ]
  },
  {
   "cell_type": "code",
   "execution_count": 2,
   "metadata": {},
   "outputs": [
    {
     "name": "stdout",
     "output_type": "stream",
     "text": [
      "2 19 1 0\n"
     ]
    }
   ],
   "source": [
    "'''Write a Python program to count Uppercase, Lowercase, special character and numeric values in a given string.\n",
    "\n",
    "Sample:\n",
    "\n",
    "Input-AlmaBetter@datascience\n",
    "\n",
    "Output- (2, 19, 0, 1)\n",
    "'''\n",
    "\n",
    "data=input()\n",
    "Uppercase=[]\n",
    "Lowercase=[]\n",
    "special_char=[]\n",
    "numeric_val=[]\n",
    "\n",
    "for i in data:\n",
    "    if i.isupper():\n",
    "        Uppercase.append(i)\n",
    "\n",
    "    elif i.islower():\n",
    "        Lowercase.append(i)\n",
    "\n",
    "    elif i.isnumeric():\n",
    "        numeric_val.append(i)\n",
    "\n",
    "    else:\n",
    "        special_char.append(i)\n",
    "print(len(Uppercase),len(Lowercase),len(special_char),len(numeric_val))\n"
   ]
  },
  {
   "cell_type": "code",
   "execution_count": 3,
   "metadata": {},
   "outputs": [
    {
     "name": "stdout",
     "output_type": "stream",
     "text": [
      "2 19 1 0\n"
     ]
    }
   ],
   "source": [
    "data=input()\n",
    "Uppercase=0\n",
    "Lowercase=0\n",
    "special_char=0\n",
    "numeric_val=0\n",
    "\n",
    "for i in data:\n",
    "    if i.isupper():\n",
    "        Uppercase+=1\n",
    "\n",
    "    elif i.islower():\n",
    "        Lowercase+=1\n",
    "\n",
    "    elif i.isnumeric():\n",
    "        numeric_val+=1\n",
    "\n",
    "    else:\n",
    "        special_char+=1\n",
    "print(Uppercase,Lowercase,special_char,numeric_val)"
   ]
  },
  {
   "cell_type": "code",
   "execution_count": null,
   "metadata": {},
   "outputs": [],
   "source": []
  }
 ],
 "metadata": {
  "kernelspec": {
   "display_name": "Python 3",
   "language": "python",
   "name": "python3"
  },
  "language_info": {
   "codemirror_mode": {
    "name": "ipython",
    "version": 3
   },
   "file_extension": ".py",
   "mimetype": "text/x-python",
   "name": "python",
   "nbconvert_exporter": "python",
   "pygments_lexer": "ipython3",
   "version": "3.11.2"
  }
 },
 "nbformat": 4,
 "nbformat_minor": 2
}
