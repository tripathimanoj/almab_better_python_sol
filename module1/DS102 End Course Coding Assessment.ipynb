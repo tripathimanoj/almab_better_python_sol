{
 "cells": [
  {
   "cell_type": "markdown",
   "metadata": {},
   "source": [
    "#### This notebook includes 3 questions from DS102 End Course Coding Assessment."
   ]
  },
  {
   "cell_type": "markdown",
   "metadata": {},
   "source": [
    "Vowel or consonant\n",
    "Easy\n",
    "solved\n",
    "Write a Python program to check whether an alphabet is a vowel or consonant.\n",
    "\n",
    "Example 1:\n",
    "Input:\n",
    "A\n",
    "\n",
    "Output:\n",
    "Vowel"
   ]
  },
  {
   "cell_type": "code",
   "execution_count": 1,
   "metadata": {},
   "outputs": [
    {
     "name": "stdout",
     "output_type": "stream",
     "text": [
      "Vowel\n"
     ]
    }
   ],
   "source": [
    "# Write your code here\n",
    "\n",
    "class Find_c_v:  # initilizing class \n",
    "\n",
    "    def __init__(self,alphabet):      # defining constructor\n",
    "        self.alphabet=alphabet.upper()  # defining class attributes\n",
    "\n",
    "    def get_res(self):   # defining method\n",
    "\n",
    "        try:                        # exception handlling\n",
    "            if self.alphabet in ('A','E','I','O','U'):\n",
    "                print(\"Vowel\")\n",
    "            else:\n",
    "                print(\"Consonant\")\n",
    "        except Exception as e:\n",
    "            print(\"Error is : \",e)\n",
    "\n",
    "find_c_v=Find_c_v(input())   # creating object\n",
    "find_c_v.get_res()  # method calling."
   ]
  },
  {
   "cell_type": "markdown",
   "metadata": {},
   "source": [
    "Dog's age\n",
    "Easy\n",
    "solved\n",
    "Write a Python program to calculate a dog's age in dog's years. Note: For the first two years, a dog year is equal to 10.5 human years. After that, each dog year equals 4 human years.\n",
    "\n",
    "Example 1:\n",
    "Input:\n",
    "12\n",
    "\n",
    "Output:\n",
    "Dog's age: 61"
   ]
  },
  {
   "cell_type": "code",
   "execution_count": 2,
   "metadata": {},
   "outputs": [
    {
     "name": "stdout",
     "output_type": "stream",
     "text": [
      "Dog's age: 61\n"
     ]
    }
   ],
   "source": [
    "# Write your code here\n",
    "\n",
    "class Dog_age: # class created\n",
    "\n",
    "    def __init__(self,age): # class constractor\n",
    "        self.age = age    # class attributes\n",
    "\n",
    "    def get_age(self): # defining method\n",
    "\n",
    "        try:                             # exception handlling\n",
    "            if self.age==1:\n",
    "                out =10.5\n",
    "                print(\"Dog's age:\",out)\n",
    "            \n",
    "            elif self.age>=2:\n",
    "                first_two_yrs=2\n",
    "                remaining_age=self.age-first_two_yrs\n",
    "                out=(10.5*first_two_yrs)+(remaining_age*4)\n",
    "                print(\"Dog's age:\",int(out))\n",
    "        \n",
    "        except Exception as e:\n",
    "            print(\"Error is :\",e)\n",
    "\n",
    "dog_age=Dog_age(int(input()))    # object creating\n",
    "dog_age.get_age()      # method calling"
   ]
  },
  {
   "cell_type": "markdown",
   "metadata": {},
   "source": [
    "Biggest even number\n",
    "Easy\n",
    "solved\n",
    "Write a Python program to find the biggest even number between two numbers inclusive.\n",
    "\n",
    "Example 1:\n",
    "Input:\n",
    "12\n",
    "\n",
    "51\n",
    "\n",
    "Output:\n",
    "50"
   ]
  },
  {
   "cell_type": "code",
   "execution_count": 3,
   "metadata": {},
   "outputs": [
    {
     "name": "stdout",
     "output_type": "stream",
     "text": [
      "50\n"
     ]
    }
   ],
   "source": [
    "#Write your code here\n",
    "\n",
    "#m = int(input())\n",
    "#n = int(input())\n",
    "\n",
    "class Max_even: # creating class\n",
    "\n",
    "    def __init__(self,num1,num2): # defining constructor\n",
    "        self.num1=num1 \n",
    "        self.num2=num2\n",
    "\n",
    "    def get_even(self): # defining class mehtod\n",
    "\n",
    "        try:                                                 # exception handlling\n",
    "            if self.num1<self.num2:\n",
    "                lst_num=list(range(self.num1,self.num2+1))[::-1]\n",
    "                max_eve=0\n",
    "                for ele in lst_num:\n",
    "                    if ele%2==0:\n",
    "                        max_eve=ele\n",
    "                        break\n",
    "                print(max_eve)    \n",
    "            else:\n",
    "                print(\"num1 should be less than num2\")\n",
    "\n",
    "        except Exception as e:\n",
    "            print(\"Error is : \",e)\n",
    "\n",
    "Me=Max_even(int(input()),int(input())) # object creating\n",
    "Me.get_even() # method calling"
   ]
  },
  {
   "cell_type": "markdown",
   "metadata": {},
   "source": [
    "Numbers below threshold\n",
    "Medium\n",
    "solved\n",
    "Write a Python program to find the indexes of numbers of a given list below a given threshold.\n",
    "\n",
    "Example 1:\n",
    "Input:\n",
    "[0, 12, 45, 3, 4923, 322, 105, 29, 15, 39, 55]\n",
    "\n",
    "100\n",
    "\n",
    "Output:\n",
    "[0, 1, 2, 3, 7, 8, 9, 10]"
   ]
  },
  {
   "cell_type": "code",
   "execution_count": 4,
   "metadata": {},
   "outputs": [
    {
     "name": "stdout",
     "output_type": "stream",
     "text": [
      "[0, 1, 2, 3, 7, 8, 9, 10]\n"
     ]
    }
   ],
   "source": [
    "# Write your code here\n",
    "\n",
    "class Element_below:\n",
    "\n",
    "    def __init__(self,numbers,threshold):\n",
    "        self.numbers=numbers\n",
    "        self.threshold=threshold\n",
    "\n",
    "    def get_element(self):\n",
    "\n",
    "        try:\n",
    "\n",
    "            below_index=[]\n",
    "            for i in range(len(self.numbers)):\n",
    "                if self.numbers[i] < self.threshold:\n",
    "                    below_index.append(i)\n",
    "            print(below_index)\n",
    "        \n",
    "        except Exception as e:\n",
    "            print(\"Error is : \",e)\n",
    "element_below=Element_below(eval(input()),int(input()))\n",
    "element_below.get_element()"
   ]
  },
  {
   "cell_type": "markdown",
   "metadata": {},
   "source": [
    "Remove NONE\n",
    "Easy\n",
    "solved\n",
    "Write a Python program to remove None value from a given list. (Using list comprehension)\n",
    "\n",
    "Example 1:\n",
    "Input:\n",
    "[12, 0, None, 23, None, -55, 234, 89, None, 0, 6, -12]\n",
    "\n",
    "Output:\n",
    "[12, 0, 23, -55, 234, 89, 0, 6, -12]"
   ]
  },
  {
   "cell_type": "code",
   "execution_count": 5,
   "metadata": {},
   "outputs": [
    {
     "name": "stdout",
     "output_type": "stream",
     "text": [
      "[12, 0, 23, -55, 234, 89, 0, 6, -12]\n"
     ]
    }
   ],
   "source": [
    "# Write your code here\n",
    "\n",
    "class Remove_none:\n",
    "\n",
    "    def __init__(self,lst):\n",
    "        self.lst=lst\n",
    "\n",
    "    def get_data(self):\n",
    "\n",
    "        try:\n",
    "\n",
    "            new_lst=[i for i in self.lst if i!= None]\n",
    "            print(new_lst)\n",
    "        \n",
    "        except Exception as e:\n",
    "            print(\"Error is :\",e)\n",
    "\n",
    "remove_none=Remove_none(eval(input()))\n",
    "remove_none.get_data()"
   ]
  },
  {
   "cell_type": "markdown",
   "metadata": {},
   "source": [
    "Indexes of None\n",
    "Easy\n",
    "solved\n",
    "Write a Python program to find the indexes of all None items in a given list.\n",
    "\n",
    "Example 1:\n",
    "Input:\n",
    "[1, None, 5, 4,None, 0, None, None]\n",
    "\n",
    "Output:\n",
    "[1, 4, 6, 7]"
   ]
  },
  {
   "cell_type": "code",
   "execution_count": 6,
   "metadata": {},
   "outputs": [
    {
     "name": "stdout",
     "output_type": "stream",
     "text": [
      "[1, 4, 6, 7]\n"
     ]
    }
   ],
   "source": [
    "# Write your code here\n",
    "\n",
    "class Index_none:    # class initillization\n",
    "\n",
    "    def __init__(self,data): # creating constructor\n",
    "        self.data=data   # class attributes\n",
    "\n",
    "    def get_index(self): # defining method\n",
    "        \n",
    "        try:             # exception handlling\n",
    "\n",
    "            ind=[]\n",
    "            for i in range(len(self.data)):\n",
    "\n",
    "                if self.data[i]==None:\n",
    "                    ind.append(i)\n",
    "            print(ind)\n",
    "\n",
    "\n",
    "        except Exception as e:\n",
    "\n",
    "            print(\"Error is :\",e)\n",
    "\n",
    "index_none=Index_none(eval(input())) # object creating\n",
    "index_none.get_index() # method calling\n",
    "    "
   ]
  },
  {
   "cell_type": "markdown",
   "metadata": {},
   "source": [
    "Remove specific word\n",
    "Easy\n",
    "solved\n",
    "Write a Python program to remove specific words from a given list. (Using List comprehension)\n",
    "\n",
    "Example 1:\n",
    "Input:\n",
    "['red', 'green', 'blue', 'white', 'black', 'orange']\n",
    "\n",
    "['white', 'orange']\n",
    "\n",
    "Output:\n",
    "['red', 'green', 'blue', 'black']"
   ]
  },
  {
   "cell_type": "code",
   "execution_count": 7,
   "metadata": {},
   "outputs": [
    {
     "name": "stdout",
     "output_type": "stream",
     "text": [
      "['red', 'green', 'blue', 'black']\n"
     ]
    }
   ],
   "source": [
    "# Write your code here\n",
    "\n",
    "class Remove_ele:   # class initilizatiion\n",
    "\n",
    "    def __init__(self,list1,list2):   # constructor defining\n",
    "        self.list1=list1 # class attributes\n",
    "        self.list2=list2\n",
    "\n",
    "    def get_data(self):   # method defining\n",
    "\n",
    "        try:    # exception handlling\n",
    "\n",
    "            list3 = [ele for ele in self.list1 if ele not in self.list2]\n",
    "            print(list3)\n",
    "\n",
    "        except Exception as e:\n",
    "            print(\"Error is e: \",e)\n",
    "\n",
    "remove_ele=Remove_ele(eval(input()),eval(input())) # object creating\n",
    "remove_ele.get_data() # method calling."
   ]
  },
  {
   "cell_type": "markdown",
   "metadata": {},
   "source": [
    "Alternate elements\n",
    "Easy\n",
    "solved\n",
    "Write a Python program to create a list taking alternate elements from a given list. (Using list comprehension)\n",
    "\n",
    "Example 1:\n",
    "Input:\n",
    "[\"red\", \"black\", \"white\", \"green\", \"orange\"]\n",
    "\n",
    "Output:\n",
    "['red', 'white', 'orange']"
   ]
  },
  {
   "cell_type": "code",
   "execution_count": 8,
   "metadata": {},
   "outputs": [
    {
     "name": "stdout",
     "output_type": "stream",
     "text": [
      "['red', 'white', 'orange']\n"
     ]
    }
   ],
   "source": [
    "# Write your code here\n",
    "\n",
    "class Alternate_ele: # class creating\n",
    "\n",
    "    def __init__(self,data): # creating constructor\n",
    "\n",
    "        self.data=data  # class attributes\n",
    "\n",
    "    def get_data(self): # defining method \n",
    "\n",
    "        try:    # exception handlling \n",
    "\n",
    "            new_lst=[self.data[i] for i in range(0,len(self.data),2)]\n",
    "            print(new_lst)\n",
    "        except Exception as e:\n",
    "            print(\"Error is : \",e)\n",
    "\n",
    "alt_ele=Alternate_ele(eval(input())) # object creating\n",
    "alt_ele.get_data() # method calling."
   ]
  },
  {
   "cell_type": "markdown",
   "metadata": {},
   "source": [
    "Get Chinese zodiac\n",
    "Medium\n",
    "solved\n",
    "Write a Python program to determine your Chinese Zodiac sign based on your birth year. The Chinese Zodiac is a classification scheme based on the lunar calendar that assigns an animal sign to each year in a 12-year cycle. Each sign is associated with certain personality traits and characteristics. Your task is to create a program that takes a birth year as input and displays the corresponding Chinese Zodiac sign.\n",
    "\n",
    "Here are the Chinese Zodiac signs and their respective years based on the reference year 2000:\n",
    "\n",
    "Zodiac Signs and Their Years:\n",
    "\n",
    "Dragon: 2000, 2012, 2024, 2036, ...\n",
    "Snake: 2001, 2013, 2025, 2037, ...\n",
    "Horse: 2002, 2014, 2026, 2038, ...\n",
    "Goat (or Sheep): 2003, 2015, 2027, 2039, ...\n",
    "Monkey: 2004, 2016, 2028, 2040, ...\n",
    "Rooster: 2005, 2017, 2029, 2041, ...\n",
    "Dog: 2006, 2018, 2030, 2042, ...\n",
    "Pig: 2007, 2019, 2031, 2043, ...\n",
    "Rat: 2008, 2020, 2032, 2044, ...\n",
    "Ox: 2009, 2021, 2033, 2045, ...\n",
    "Tiger: 2010, 2022, 2034, 2046, ...\n",
    "Rabbit: 2011, 2023, 2035, 2047, ...\n",
    "Your program should take a birth year as input and display the corresponding Chinese Zodiac sign based on the reference year 2000.\n",
    "\n",
    "Eg\n",
    "\n",
    "Input: 2022\n",
    "\n",
    "Output: ('Your Zodiac sign :', 'Tiger')\n",
    "\n",
    "Example 1:\n",
    "Input:\n",
    "2022\n",
    "\n",
    "Output:\n",
    "('Your Zodiac sign :', 'Tiger')"
   ]
  },
  {
   "cell_type": "code",
   "execution_count": 9,
   "metadata": {},
   "outputs": [
    {
     "name": "stdout",
     "output_type": "stream",
     "text": [
      "('Your Zodiac sign :', 'Tiger')\n"
     ]
    }
   ],
   "source": [
    "#write your code inside main function\n",
    "\n",
    "\n",
    "class Chinese_zodiac:         # class initilization\n",
    "\n",
    "    def __init__(self,birth_year):    # defining constructor\n",
    "        self.birth_year=birth_year    # class attributes\n",
    "        self.reference_year=2000\n",
    "        self.zodiac_signs=['Dragon', 'Snake', 'Horse', 'Goat', 'Monkey', 'Rooster', 'Dog', 'Pig', 'Rat', 'Ox', 'Tiger', 'Rabbit']      # zodiac signs\n",
    "\n",
    "    def get_zodiac_sign(self):        # defining method\n",
    "\n",
    "        zodiac_index=(self.birth_year - self.reference_year) %12   # getting the zodiac index to find the data from zodiac sign list\n",
    "        z_sign=self.zodiac_signs[zodiac_index]\n",
    "        print(f\"('Your Zodiac sign :', '{z_sign}')\")\n",
    "\n",
    "chinese_zodic=Chinese_zodiac(int(input()))    # object creating\n",
    "chinese_zodic.get_zodiac_sign()                       # method calling\n"
   ]
  },
  {
   "cell_type": "markdown",
   "metadata": {},
   "source": [
    "End of notebook------------------------"
   ]
  }
 ],
 "metadata": {
  "kernelspec": {
   "display_name": "Python 3",
   "language": "python",
   "name": "python3"
  },
  "language_info": {
   "codemirror_mode": {
    "name": "ipython",
    "version": 3
   },
   "file_extension": ".py",
   "mimetype": "text/x-python",
   "name": "python",
   "nbconvert_exporter": "python",
   "pygments_lexer": "ipython3",
   "version": "3.11.2"
  }
 },
 "nbformat": 4,
 "nbformat_minor": 2
}
