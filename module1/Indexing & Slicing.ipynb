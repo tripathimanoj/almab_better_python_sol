{
 "cells": [
  {
   "cell_type": "markdown",
   "metadata": {},
   "source": [
    "#### This notebook includes 3 questions from Indexing and slicing."
   ]
  },
  {
   "cell_type": "markdown",
   "metadata": {},
   "source": [
    "Palindrome of elements\n",
    "Easy\n",
    "solved\n",
    "Write a Python program to check whether the given strings are palindromes or not. Return True otherwise False.\n",
    "\n",
    "Example 1:\n",
    "Input:\n",
    "palindrome\n",
    "\n",
    "Output:\n",
    "False"
   ]
  },
  {
   "cell_type": "code",
   "execution_count": 1,
   "metadata": {},
   "outputs": [
    {
     "name": "stdout",
     "output_type": "stream",
     "text": [
      "False\n"
     ]
    }
   ],
   "source": [
    "s = input()\n",
    "news=s[::-1]\n",
    "\n",
    "if s==news:\n",
    "  print(\"True\")\n",
    "else:\n",
    "  print(\"False\")"
   ]
  },
  {
   "cell_type": "markdown",
   "metadata": {},
   "source": [
    "Matching Characters\n",
    "Hard\n",
    "solved\n",
    "Write a Python program to accept a string from the user and display n characters from right of string.\n",
    "\n",
    "Example 1:\n",
    "Input:\n",
    "String Slicing in Python\n",
    "\n",
    "5\n",
    "\n",
    "Output:\n",
    "ython"
   ]
  },
  {
   "cell_type": "code",
   "execution_count": 2,
   "metadata": {},
   "outputs": [
    {
     "name": "stdout",
     "output_type": "stream",
     "text": [
      "ython\n"
     ]
    }
   ],
   "source": [
    "str=input()\n",
    "n=int(input())\n",
    "out=str[len(str)-n:]\n",
    "print(out)"
   ]
  },
  {
   "cell_type": "markdown",
   "metadata": {},
   "source": [
    "Modify List\n",
    "Easy\n",
    "solved\n",
    "Write a Python program to modify the values of some of the elements in the list\n",
    "\n",
    "Example 1:\n",
    "Input:\n",
    "[1, 2, 3, 4, 5, 6, 7, 8, 9]\n",
    "\n",
    "[10, 20, 30]\n",
    "\n",
    "Output:\n",
    "[1, 10, 20, 30, 5, 6, 7, 8, 9]"
   ]
  },
  {
   "cell_type": "code",
   "execution_count": 3,
   "metadata": {},
   "outputs": [
    {
     "name": "stdout",
     "output_type": "stream",
     "text": [
      "[1, 10, 20, 30, 5, 6, 7, 8, 9]\n"
     ]
    }
   ],
   "source": [
    "lst = eval(input())\n",
    "lst_modify=eval(input())\n",
    "\n",
    "for i in range(len(lst_modify)):\n",
    "    if i < len(lst):\n",
    "        lst[i + 1] = lst_modify[i]\n",
    "print(lst)"
   ]
  },
  {
   "cell_type": "markdown",
   "metadata": {},
   "source": [
    "end of notebook-------------------------"
   ]
  }
 ],
 "metadata": {
  "kernelspec": {
   "display_name": "base",
   "language": "python",
   "name": "python3"
  },
  "language_info": {
   "codemirror_mode": {
    "name": "ipython",
    "version": 3
   },
   "file_extension": ".py",
   "mimetype": "text/x-python",
   "name": "python",
   "nbconvert_exporter": "python",
   "pygments_lexer": "ipython3",
   "version": "3.11.5"
  }
 },
 "nbformat": 4,
 "nbformat_minor": 2
}
