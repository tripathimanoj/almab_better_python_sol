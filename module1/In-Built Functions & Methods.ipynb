{
 "cells": [
  {
   "cell_type": "markdown",
   "metadata": {},
   "source": [
    "#### This notebook includes 3 questions from In-Built Functions & Methods."
   ]
  },
  {
   "cell_type": "markdown",
   "metadata": {},
   "source": [
    "Common ones out\n",
    "Easy\n",
    "solved\n",
    "Write a Python program to find those common numbers which are divisible by 15.\n",
    "\n",
    "Example 1:\n",
    "Input:\n",
    "[45, 55, 60, 37, 100, 105, 220]\n",
    "\n",
    "Output:\n",
    "[45, 60, 105]"
   ]
  },
  {
   "cell_type": "code",
   "execution_count": 1,
   "metadata": {},
   "outputs": [
    {
     "name": "stdout",
     "output_type": "stream",
     "text": [
      "[45, 60, 105]\n"
     ]
    }
   ],
   "source": [
    "# Write your code here\n",
    "\n",
    "num_list = eval(input())\n",
    "res=[]\n",
    "\n",
    "for i in num_list:\n",
    "  \n",
    "  if (i%15==0):\n",
    "    res.append(i)\n",
    "print(res)\n"
   ]
  },
  {
   "cell_type": "markdown",
   "metadata": {},
   "source": [
    "Filter positives\n",
    "Medium\n",
    "solved\n",
    "Write a Python program to filter the positive numbers from a list.\n",
    "\n",
    "Example 1:\n",
    "Input:\n",
    "[34, 1, 0, -23, 12, -88]\n",
    "\n",
    "Output:\n",
    "[34, 1, 12]"
   ]
  },
  {
   "cell_type": "code",
   "execution_count": 2,
   "metadata": {},
   "outputs": [
    {
     "name": "stdout",
     "output_type": "stream",
     "text": [
      "[34, 1, 12]\n"
     ]
    }
   ],
   "source": [
    "# Write your code here\n",
    "\n",
    "nums = eval(input())\n",
    "\n",
    "res=[]\n",
    "\n",
    "for i in nums:\n",
    "  if (i>0):\n",
    "    res.append(i)\n",
    "  \n",
    "print(res)"
   ]
  },
  {
   "cell_type": "markdown",
   "metadata": {},
   "source": [
    "Find length of set\n",
    "Easy\n",
    "solved\n",
    "Write a Python program to find the length of a set.\n",
    "\n",
    "Example 1:\n",
    "Input:\n",
    "1 2 find look seek\n",
    "\n",
    "Output:\n",
    "5"
   ]
  },
  {
   "cell_type": "code",
   "execution_count": 3,
   "metadata": {},
   "outputs": [
    {
     "name": "stdout",
     "output_type": "stream",
     "text": [
      "5\n"
     ]
    }
   ],
   "source": [
    "# Write your code here\n",
    "\n",
    "sn = input().split(' ')\n",
    "\n",
    "print(len(sn))"
   ]
  },
  {
   "cell_type": "markdown",
   "metadata": {},
   "source": [
    "end of notebook------------------------"
   ]
  }
 ],
 "metadata": {
  "kernelspec": {
   "display_name": "base",
   "language": "python",
   "name": "python3"
  },
  "language_info": {
   "codemirror_mode": {
    "name": "ipython",
    "version": 3
   },
   "file_extension": ".py",
   "mimetype": "text/x-python",
   "name": "python",
   "nbconvert_exporter": "python",
   "pygments_lexer": "ipython3",
   "version": "3.11.5"
  }
 },
 "nbformat": 4,
 "nbformat_minor": 2
}
