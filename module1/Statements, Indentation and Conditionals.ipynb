{
 "cells": [
  {
   "cell_type": "markdown",
   "metadata": {},
   "source": [
    "#### This notebook includes 3 questions from Statements, Indentation and Conditionals......"
   ]
  },
  {
   "cell_type": "markdown",
   "metadata": {},
   "source": [
    "Get Murphy Registered for Doga\n",
    "Easy\n",
    "unsolved\n",
    "Murphy, a famous sporty dog of the locality wants to get registered in Doga (Dog+Yoga).\n",
    "\n",
    "Doga (Dog + Yoga) is a trend that has emerged in the United States and is an excellent choice to get some exercise for you in the company of your pet dogs while improving their welfare in a healthy and fun way.\n",
    "\n",
    "For registration, it is required to write the age of Murphy in Dog's years.\n",
    "\n",
    "Note: For the first two years, a dog year is equal to 10.5 human years. After that, each dog year equals 4 human years.\n",
    "\n",
    "Thus, write a Python program to calculate a dog's age in dog's years from the human years as input.\n",
    "\n",
    "Example 1:\n",
    "Input:\n",
    "12\n",
    "\n",
    "Output:\n",
    "Dog's age: 61"
   ]
  },
  {
   "cell_type": "code",
   "execution_count": 4,
   "metadata": {},
   "outputs": [
    {
     "name": "stdout",
     "output_type": "stream",
     "text": [
      "Dog's age: 61\n"
     ]
    }
   ],
   "source": [
    "# Write your code here\n",
    "age = int(input())\n",
    "if age==1:\n",
    "    print(\"Dog's age:\",float(age*10.5))\n",
    "elif age>1:\n",
    "    first_two_yr=2\n",
    "    remaining_age=age-first_two_yr\n",
    "    out=(10.5*first_two_yr)+(remaining_age*4)\n",
    "    print(\"Dog's age:\",int(out))"
   ]
  },
  {
   "cell_type": "markdown",
   "metadata": {},
   "source": [
    "Test of English Language\n",
    "Easy\n",
    "solved\n",
    "Sammy has a English Language test tomorrow in which the teacher would be asking about Vowels and Consonants. So, help Sammy in practicing for the test by writing a Python program to check whether an alphabet is a Vowel or Consonant.\n",
    "\n",
    "Example 1:\n",
    "Input:\n",
    "A\n",
    "\n",
    "Output:\n",
    "Vowel"
   ]
  },
  {
   "cell_type": "code",
   "execution_count": 6,
   "metadata": {},
   "outputs": [
    {
     "name": "stdout",
     "output_type": "stream",
     "text": [
      "Vowel\n"
     ]
    }
   ],
   "source": [
    "# Write your code here\n",
    "\n",
    "ch = input().lower()\n",
    "\n",
    "vowels=['a','e','i','o','u']\n",
    "\n",
    "if ch in vowels:\n",
    "    print(\"Vowel\")\n",
    "else:\n",
    "    print(\"Consonant\")"
   ]
  },
  {
   "cell_type": "markdown",
   "metadata": {},
   "source": [
    "Check positive, negative or zero\n",
    "Easy\n",
    "unsolved\n",
    "Write a Python program to check the weather of a city, if it is positive, negative or zero.\n",
    "\n",
    "Example 1:\n",
    "Input:\n",
    "50\n",
    "\n",
    "Output:\n",
    "It is positive number"
   ]
  },
  {
   "cell_type": "code",
   "execution_count": 7,
   "metadata": {},
   "outputs": [
    {
     "name": "stdout",
     "output_type": "stream",
     "text": [
      "It is positive number\n"
     ]
    }
   ],
   "source": [
    "#write your code here\n",
    "\n",
    "weather=float(input())\n",
    "\n",
    "if weather==0:\n",
    "  print(\"It is Zero\")\n",
    "\n",
    "elif weather<0:\n",
    "  print(\"It is a negative number\")\n",
    "\n",
    "else:\n",
    "  print(\"It is positive number\")"
   ]
  },
  {
   "cell_type": "markdown",
   "metadata": {},
   "source": [
    "end of notebook----------------------"
   ]
  }
 ],
 "metadata": {
  "kernelspec": {
   "display_name": "base",
   "language": "python",
   "name": "python3"
  },
  "language_info": {
   "codemirror_mode": {
    "name": "ipython",
    "version": 3
   },
   "file_extension": ".py",
   "mimetype": "text/x-python",
   "name": "python",
   "nbconvert_exporter": "python",
   "pygments_lexer": "ipython3",
   "version": "3.11.5"
  }
 },
 "nbformat": 4,
 "nbformat_minor": 2
}
