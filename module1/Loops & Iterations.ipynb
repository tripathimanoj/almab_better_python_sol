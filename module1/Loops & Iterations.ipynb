{
 "cells": [
  {
   "cell_type": "markdown",
   "metadata": {},
   "source": [
    "#### This notebook includes 3 questions from Loops & Iterations."
   ]
  },
  {
   "cell_type": "markdown",
   "metadata": {},
   "source": [
    "Pattern formation\n",
    "Medium\n",
    "solved\n",
    "Write a Python program to print the following pattern of numbers in n rows to display on art board in maths exhibition.\n",
    "\n",
    "Example 1:\n",
    "Input:\n",
    "4\n",
    "\n",
    "Output:\n",
    "1\n",
    "\n",
    "22\n",
    "\n",
    "333\n",
    "\n",
    "4444"
   ]
  },
  {
   "cell_type": "code",
   "execution_count": 1,
   "metadata": {},
   "outputs": [
    {
     "name": "stdout",
     "output_type": "stream",
     "text": [
      "1\n",
      "22\n",
      "333\n",
      "4444\n"
     ]
    }
   ],
   "source": [
    "# Write your code here\n",
    "\n",
    "n = int(input(\"\"))\n",
    "\n",
    "for i in range(1, n + 1):\n",
    "    for j in range(i):\n",
    "        print(i, end=\"\")\n",
    "    print()"
   ]
  },
  {
   "cell_type": "markdown",
   "metadata": {},
   "source": [
    "Reschedule the meeting to next date\n",
    "Hard\n",
    "unsolved\n",
    "Write a Python Program for Mr. Harry to automatically reschedule a meeting to the next date whenever it is not held on the current date.\n",
    "\n",
    "Sample\n",
    "\n",
    "Input a year: 1974\n",
    "Input a month [1-12]: 2\n",
    "Input a day [1-31]: 15\n",
    "The next date is [yyyy-mm-dd] 1974-2-16.\n",
    "\n",
    "Example 1:\n",
    "Input:\n",
    "2018 7 14\n",
    "\n",
    "Output:\n",
    "The next date is [yyyy-mm-dd] 2018-7-15."
   ]
  },
  {
   "cell_type": "code",
   "execution_count": 2,
   "metadata": {},
   "outputs": [
    {
     "name": "stdout",
     "output_type": "stream",
     "text": [
      "The next date is [yyyy-mm-dd] 2018-07-15.\n"
     ]
    }
   ],
   "source": [
    "# This code is having some issue , will debug and fix it.\n",
    "\n",
    "# Input year, month, and day\n",
    "year=int(input())\n",
    "month=int(input())\n",
    "day=int(input())\n",
    "\n",
    "leap_year = (year % 4 == 0 and (year % 100 != 0 or year % 400 == 0))\n",
    "month_lengths = [0, 31, 28 + leap_year, 31, 30, 31, 30, 31, 31, 30, 31, 30, 31]\n",
    "\n",
    "if month == 2:\n",
    "    month_length = 29 if leap_year else 28\n",
    "else:\n",
    "    month_length = month_lengths[month]\n",
    "\n",
    "day += 1\n",
    "if day > month_length:\n",
    "    day = 1\n",
    "    month += 1\n",
    "    if month > 12:\n",
    "        month = 1\n",
    "        year += 1\n",
    "\n",
    "print(f\"The next date is [yyyy-mm-dd] {year:04d}-{month:02d}-{day:02d}.\")"
   ]
  },
  {
   "cell_type": "markdown",
   "metadata": {},
   "source": [
    "Check alphabet is consonant or vowel\n",
    "Easy\n",
    "solved\n",
    "Write a Python program to check whether an alphabet is a vowel or consonant.\n",
    "\n",
    "Eg:\n",
    "\n",
    "Input- a\n",
    "\n",
    "Output- Vowel\n",
    "\n",
    "Input - b\n",
    "\n",
    "Output- Consonant\n",
    "\n",
    "Example 1:\n",
    "Input:\n",
    "a\n",
    "\n",
    "Output:\n",
    "Vowel"
   ]
  },
  {
   "cell_type": "code",
   "execution_count": 3,
   "metadata": {},
   "outputs": [
    {
     "name": "stdout",
     "output_type": "stream",
     "text": [
      "Vowel\n"
     ]
    }
   ],
   "source": [
    "# Write your code here\n",
    "\n",
    "l = input().lower()\n",
    "\n",
    "vowels=['a','e','i','o','u']\n",
    "\n",
    "if l in vowels:\n",
    "    print(\"Vowel\")\n",
    "else:\n",
    "    print(\"Consonant\")"
   ]
  },
  {
   "cell_type": "markdown",
   "metadata": {},
   "source": [
    "end of notebook---------------------"
   ]
  }
 ],
 "metadata": {
  "kernelspec": {
   "display_name": "base",
   "language": "python",
   "name": "python3"
  },
  "language_info": {
   "codemirror_mode": {
    "name": "ipython",
    "version": 3
   },
   "file_extension": ".py",
   "mimetype": "text/x-python",
   "name": "python",
   "nbconvert_exporter": "python",
   "pygments_lexer": "ipython3",
   "version": "3.11.5"
  }
 },
 "nbformat": 4,
 "nbformat_minor": 2
}
