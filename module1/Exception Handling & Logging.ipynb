{
 "cells": [
  {
   "cell_type": "markdown",
   "metadata": {},
   "source": [
    "#### This notebook includes 3 questions from Exception Handling & Logging."
   ]
  },
  {
   "cell_type": "markdown",
   "metadata": {},
   "source": [
    "Largest element of list\n",
    "Easy\n",
    "solved\n",
    "Write a Python program to get the largest number from a list.\n",
    "\n",
    "Example 1:\n",
    "Input:\n",
    "[1, 2, -8, 0]\n",
    "\n",
    "Output:\n",
    "2"
   ]
  },
  {
   "cell_type": "code",
   "execution_count": 1,
   "metadata": {},
   "outputs": [
    {
     "name": "stdout",
     "output_type": "stream",
     "text": [
      "2\n"
     ]
    }
   ],
   "source": [
    "# Write your code here\n",
    "\n",
    "'''lst=eval(input())\n",
    "\n",
    "lst.sort()\n",
    "print(lst[-1])'''\n",
    "\n",
    "class Largest_num:  # creating class\n",
    "\n",
    "    def __init__(self,mylist): # defining constructor\n",
    "\n",
    "        self.mylist=mylist # defining class attributes\n",
    "\n",
    "    def l_num(self): #defining custom method\n",
    "\n",
    "        try:    # defining exception handlling.\n",
    "\n",
    "            if len(self.mylist)>0:\n",
    "\n",
    "                self.mylist.sort()\n",
    "                print(self.mylist[-1])\n",
    "\n",
    "        except Exception as e:\n",
    "            print(\"error occured is \",e)\n",
    "\n",
    "ln=Largest_num(eval(input())) # object creating\n",
    "ln.l_num() #method calling.\n"
   ]
  },
  {
   "cell_type": "markdown",
   "metadata": {},
   "source": [
    "Sort hyphen separated words\n",
    "Medium\n",
    "solved\n",
    "Write a Python program to print unique slug names for website with words seperated by hyphen but arranged in alphabetical order. For this, the program should accept hyphen-separated sequence of words as input and prints in required format.\n",
    "\n",
    "Example 1:\n",
    "Input:\n",
    "green-red-black-white\n",
    "\n",
    "Output:\n",
    "black-green-red-white"
   ]
  },
  {
   "cell_type": "code",
   "execution_count": 2,
   "metadata": {},
   "outputs": [
    {
     "name": "stdout",
     "output_type": "stream",
     "text": [
      "black-green-red-white\n"
     ]
    }
   ],
   "source": [
    "#Your code goes here\n",
    "\n",
    "'''\n",
    "input_str = input()\n",
    "words = input_str.split(\"-\")\n",
    "sorted_words = sorted(words)\n",
    "output_str = \"-\".join(sorted_words)\n",
    "print(output_str)\n",
    "'''\n",
    "class Sort_by_word:  #class creating \n",
    "\n",
    "    def __init__(self,my_string):  # creating constructor\n",
    "        self.my_string=my_string # defining class attributes\n",
    "\n",
    "    def sort_word(self): # defining method\n",
    "\n",
    "        try:    # exception handling\n",
    "\n",
    "            if (len(self.my_string)>0) :\n",
    "\n",
    "                self.my_string=self.my_string.split(\"-\")\n",
    "                sorted_word=sorted(self.my_string)\n",
    "\n",
    "        except Exception as e:\n",
    "            print(\"Error is: \",e)\n",
    "\n",
    "        output=\"-\".join(sorted_word)\n",
    "        print(output)\n",
    "\n",
    "sb=Sort_by_word(input()) # creating class object\n",
    "sb.sort_word() # mathod calling."
   ]
  },
  {
   "cell_type": "markdown",
   "metadata": {},
   "source": [
    "Function for pascal's triangle\n",
    "Hard\n",
    "solved\n",
    "Write a Python function that prints out the first n rows of Pascal's triangle.\n",
    "\n",
    "Note : Pascal's triangle is an arithmetic and geometric figure first imagined by Blaise Pascal.\n",
    "\n",
    "Example 1:\n",
    "Input:\n",
    "4\n",
    "\n",
    "Output:\n",
    "[1]\n",
    "\n",
    "[1, 1]\n",
    "\n",
    "[1, 2, 1]\n",
    "\n",
    "[1, 3, 3, 1]"
   ]
  },
  {
   "cell_type": "code",
   "execution_count": 3,
   "metadata": {},
   "outputs": [
    {
     "name": "stdout",
     "output_type": "stream",
     "text": [
      "[1]\n",
      "[1, 1]\n",
      "[1, 2, 1]\n",
      "[1, 3, 3, 1]\n"
     ]
    }
   ],
   "source": [
    "#Your code here\n",
    "\n",
    "class PascalTriangle:\n",
    "    def __init__(self, n):\n",
    "        self.n = n\n",
    "        self.triangle = []\n",
    "\n",
    "    def generate_triangle(self):\n",
    "        try:\n",
    "            if self.n <= 0:\n",
    "                raise ValueError(\"The number of rows (n) must be a positive integer.\")\n",
    "            \n",
    "            for i in range(self.n):\n",
    "                row = []\n",
    "                if i == 0:\n",
    "                    row.append(1)\n",
    "                else:\n",
    "                    for j in range(i + 1):\n",
    "                        if j == 0 or j == i:\n",
    "                            row.append(1)\n",
    "                        else:\n",
    "                            value = self.triangle[i - 1][j - 1] + self.triangle[i - 1][j]\n",
    "                            row.append(value)\n",
    "                self.triangle.append(row)\n",
    "        except ValueError as e:\n",
    "            print(f\"Error: {e}\")\n",
    "\n",
    "    def print_triangle(self):\n",
    "        for row in self.triangle:\n",
    "            print(row)\n",
    "\n",
    "# Example usage\n",
    "try:\n",
    "    n = int(input())\n",
    "    pascal = PascalTriangle(n)\n",
    "    pascal.generate_triangle()\n",
    "    pascal.print_triangle()\n",
    "except ValueError:\n",
    "    print(\"Please enter a valid positive integer for the number of rows.\")\n"
   ]
  },
  {
   "cell_type": "markdown",
   "metadata": {},
   "source": [
    "End of notebook---------------------"
   ]
  }
 ],
 "metadata": {
  "kernelspec": {
   "display_name": "Python 3",
   "language": "python",
   "name": "python3"
  },
  "language_info": {
   "codemirror_mode": {
    "name": "ipython",
    "version": 3
   },
   "file_extension": ".py",
   "mimetype": "text/x-python",
   "name": "python",
   "nbconvert_exporter": "python",
   "pygments_lexer": "ipython3",
   "version": "3.11.2"
  }
 },
 "nbformat": 4,
 "nbformat_minor": 2
}
