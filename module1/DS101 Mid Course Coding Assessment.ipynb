{
 "cells": [
  {
   "cell_type": "markdown",
   "metadata": {},
   "source": [
    "#### This notebook includes 10 questions from DS101 Mid Course Coding Assessment."
   ]
  },
  {
   "cell_type": "markdown",
   "metadata": {},
   "source": [
    "Print every nth element\n",
    "Easy\n",
    "solved\n",
    "Write a Python program to get the every nth element in a given list.\n",
    "\n",
    "Example 1:\n",
    "Input:\n",
    "[1, 2, 3, 4, 5, 6, 7, 8, 9, 10]\n",
    "\n",
    "2\n",
    "\n",
    "Output:\n",
    "[2, 4, 6, 8, 10]"
   ]
  },
  {
   "cell_type": "code",
   "execution_count": 2,
   "metadata": {},
   "outputs": [
    {
     "name": "stdout",
     "output_type": "stream",
     "text": [
      "[2, 4, 6, 8, 10]\n"
     ]
    }
   ],
   "source": [
    "# Write your code here\n",
    "\n",
    "lst = eval(input())\n",
    "n = int(input())\n",
    "newlst=[]\n",
    "\n",
    "for i in range(0,len(lst)+1,n):\n",
    "  #print(i)\n",
    "  newlst.append(i)\n",
    "\n",
    "newlst=newlst[1:]\n",
    "print(newlst)"
   ]
  },
  {
   "cell_type": "markdown",
   "metadata": {},
   "source": [
    "Smallest element of list\n",
    "Easy\n",
    "solved\n",
    "Write a Python program to get the smallest number from a list.\n",
    "\n",
    "Example 1:\n",
    "Input:\n",
    "[1, 2, -8, 0]\n",
    "\n",
    "Output:\n",
    "-8"
   ]
  },
  {
   "cell_type": "code",
   "execution_count": 6,
   "metadata": {},
   "outputs": [
    {
     "name": "stdout",
     "output_type": "stream",
     "text": [
      "-8\n"
     ]
    }
   ],
   "source": [
    "# Write your code here\n",
    "\n",
    "lst = eval(input())\n",
    "print(min(set(lst)))"
   ]
  },
  {
   "cell_type": "markdown",
   "metadata": {},
   "source": [
    "Remove specified index value\n",
    "Easy\n",
    "solved\n",
    "Write a Python program to print a specified list after removing the 0th, 4th and 5th elements\n",
    "\n",
    "Example 1:\n",
    "Input:\n",
    "['Red', 'Green', 'White', 'Black', 'Pink', 'Yellow']\n",
    "\n",
    "Output:\n",
    "['Green', 'White', 'Black']"
   ]
  },
  {
   "cell_type": "code",
   "execution_count": 4,
   "metadata": {},
   "outputs": [
    {
     "name": "stdout",
     "output_type": "stream",
     "text": [
      "['Green', 'White', 'Black']\n"
     ]
    }
   ],
   "source": [
    "\n",
    "num = eval(input())\n",
    "#print(num)\n",
    "#print(type(num))\n",
    "num_r = [0,4,5]\n",
    "\n",
    "'''for index in num_r:\n",
    "  print(index)\n",
    "  #num=num.pop(index)\n",
    "  #del num[index]\n",
    "print(num)  '''\n",
    "\n",
    "res = [num[i] for i in range(len(num)) if i not in num_r]\n",
    "print(res)"
   ]
  },
  {
   "cell_type": "markdown",
   "metadata": {},
   "source": [
    "Append second list\n",
    "Easy\n",
    "solved\n",
    "Write a Python program to append a list to the second list.\n",
    "\n",
    "Example 1:\n",
    "Input:\n",
    "[1, 2, 3, 0]\n",
    "\n",
    "['Red', 'Green', 'Black']\n",
    "\n",
    "Output:\n",
    "[1, 2, 3, 0, 'Red', 'Green', 'Black']"
   ]
  },
  {
   "cell_type": "code",
   "execution_count": 7,
   "metadata": {},
   "outputs": [
    {
     "name": "stdout",
     "output_type": "stream",
     "text": [
      "[1, 2, 3, 0, 'Red', 'Green', 'Black']\n"
     ]
    }
   ],
   "source": [
    "# Write your code here\n",
    "\n",
    "list1 = eval(input())\n",
    "list2 = eval(input())\n",
    "\n",
    "res=list1+list2\n",
    "print(res)"
   ]
  },
  {
   "cell_type": "markdown",
   "metadata": {},
   "source": [
    "Greater than a number\n",
    "Medium\n",
    "solved\n",
    "Write a Python program to test whether all numbers of a list is greater than a certain number.\n",
    "\n",
    "Example 1:\n",
    "Input:\n",
    "[2, 3, 4, 5]\n",
    "\n",
    "1\n",
    "\n",
    "Output:\n",
    "True"
   ]
  },
  {
   "cell_type": "code",
   "execution_count": 8,
   "metadata": {},
   "outputs": [
    {
     "name": "stdout",
     "output_type": "stream",
     "text": [
      "True\n"
     ]
    }
   ],
   "source": [
    "# Write you code here\n",
    "\n",
    "list1 = eval(input())\n",
    "num=int(input())\n",
    "\n",
    "out=[]\n",
    "\n",
    "for ele in list1:\n",
    "  if ele>num:\n",
    "    out.append(True)\n",
    "  else:\n",
    "    out.append(False)\n",
    "#print(out)\n",
    "\n",
    "if out.count(True)==len(list1):\n",
    "  print(True)\n",
    "else:\n",
    "  print(False)\n"
   ]
  },
  {
   "cell_type": "markdown",
   "metadata": {},
   "source": [
    "Type of triangle\n",
    "Easy\n",
    "solved\n",
    "Write a Python program to check a triangle is equilateral, isosceles or scalene. Note : An equilateral triangle is a triangle in which all three sides are equal. A scalene triangle is a triangle that has three unequal sides. An isosceles triangle is a triangle with (at least) two equal sides.\n",
    "\n",
    "Example 1:\n",
    "Input:\n",
    "6\n",
    "\n",
    "8\n",
    "\n",
    "12\n",
    "\n",
    "Output:\n",
    "Scalene triangle"
   ]
  },
  {
   "cell_type": "code",
   "execution_count": 9,
   "metadata": {},
   "outputs": [
    {
     "name": "stdout",
     "output_type": "stream",
     "text": [
      "Scalene triangle\n"
     ]
    }
   ],
   "source": [
    "# Write your code here\n",
    "\n",
    "a=float(input())\n",
    "b=float(input())\n",
    "c=float(input())\n",
    "\n",
    "if a==b==c:\n",
    "  print(\"Equilateral triangle\")\n",
    "\n",
    "elif a==b or b==c or a==c:\n",
    "  print(\"Isosceles triangle\")\n",
    "\n",
    "else:\n",
    "  print(\"Scalene triangle\")"
   ]
  },
  {
   "cell_type": "markdown",
   "metadata": {},
   "source": [
    "Month days\n",
    "Easy\n",
    "solved\n",
    "Write a Python program to convert month name to a number of days. Print 'Wrong month name' for incorrect input. Note: February has 28/29 days.\n",
    "\n",
    "Example 1:\n",
    "Input:\n",
    "February\n",
    "\n",
    "Output:\n",
    "28/29 days"
   ]
  },
  {
   "cell_type": "code",
   "execution_count": 10,
   "metadata": {},
   "outputs": [
    {
     "name": "stdout",
     "output_type": "stream",
     "text": [
      "28/29 days\n"
     ]
    }
   ],
   "source": [
    "# Write your code here\n",
    "month_name=input(\"\")\n",
    "\n",
    "month_days = {\n",
    "    \"January\": 31,\n",
    "    \"February\": \"28/29\",\n",
    "    \"March\": 31,\n",
    "    \"April\": 30,\n",
    "    \"May\": 31,\n",
    "    \"June\": 30,\n",
    "    \"July\": 31,\n",
    "    \"August\": 31,\n",
    "    \"September\": 30,\n",
    "    \"October\": 31,\n",
    "    \"November\": 30,\n",
    "    \"December\": 31\n",
    "}\n",
    "\n",
    "\n",
    "if month_name in month_days:\n",
    "    print(f\"{month_days[month_name]} days\")\n",
    "else:\n",
    "    print(\"Wrong month name\")\n"
   ]
  },
  {
   "cell_type": "markdown",
   "metadata": {},
   "source": [
    "Check data types and add\n",
    "Hard\n",
    "solved\n",
    "Write a Python program to add two objects if both objects are an integer type.\n",
    "\n",
    "Example 1:\n",
    "Input:\n",
    "10\n",
    "\n",
    "20\n",
    "\n",
    "Output:\n",
    "30\n",
    "\n",
    "Example 2:\n",
    "Input:\n",
    "10\n",
    "\n",
    "12.5\n",
    "\n",
    "Output:\n",
    "Inputs must be integers!"
   ]
  },
  {
   "cell_type": "code",
   "execution_count": 11,
   "metadata": {},
   "outputs": [
    {
     "name": "stdout",
     "output_type": "stream",
     "text": [
      "30\n"
     ]
    }
   ],
   "source": [
    "# Write your code here\n",
    "\n",
    "n1 = eval(input())\n",
    "n2 = eval(input())\n",
    "\n",
    "if type(n1)==int and type(n2)==int:\n",
    "  print(n1+n2)\n",
    "\n",
    "else:\n",
    "  print(\"Inputs must be integers!\")"
   ]
  },
  {
   "cell_type": "markdown",
   "metadata": {},
   "source": [
    "Check empty list\n",
    "Easy\n",
    "solved\n",
    "Write a Python program to check a list is empty or not.\n",
    "\n",
    "Example 1:\n",
    "Input:\n",
    "[]\n",
    "\n",
    "Output:\n",
    "List is empty"
   ]
  },
  {
   "cell_type": "code",
   "execution_count": 12,
   "metadata": {},
   "outputs": [
    {
     "name": "stdout",
     "output_type": "stream",
     "text": [
      "List is empty\n"
     ]
    }
   ],
   "source": [
    "#write your code inside main function\n",
    "lst = eval(input())\n",
    "\n",
    "if len(lst)==0:\n",
    "  print(\"List is empty\")\n",
    "else:\n",
    "  print(\"List is not empty\")"
   ]
  },
  {
   "cell_type": "markdown",
   "metadata": {},
   "source": [
    "Count String Length\n",
    "Easy\n",
    "solved\n",
    "Write a Python program to calculate the length of a string.\n",
    "\n",
    "Example 1:\n",
    "Input:\n",
    "data science\n",
    "\n",
    "Output:\n",
    "12"
   ]
  },
  {
   "cell_type": "code",
   "execution_count": 1,
   "metadata": {},
   "outputs": [
    {
     "name": "stdout",
     "output_type": "stream",
     "text": [
      "12\n"
     ]
    }
   ],
   "source": [
    "#write your code inside main function\n",
    "\n",
    "data=input()\n",
    "\n",
    "out=len(data)\n",
    "\n",
    "print(out)"
   ]
  },
  {
   "cell_type": "markdown",
   "metadata": {},
   "source": [
    "end of notebook----------"
   ]
  }
 ],
 "metadata": {
  "kernelspec": {
   "display_name": "base",
   "language": "python",
   "name": "python3"
  },
  "language_info": {
   "codemirror_mode": {
    "name": "ipython",
    "version": 3
   },
   "file_extension": ".py",
   "mimetype": "text/x-python",
   "name": "python",
   "nbconvert_exporter": "python",
   "pygments_lexer": "ipython3",
   "version": "3.11.5"
  }
 },
 "nbformat": 4,
 "nbformat_minor": 2
}
