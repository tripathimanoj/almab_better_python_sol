{
 "cells": [
  {
   "cell_type": "code",
   "execution_count": 6,
   "metadata": {},
   "outputs": [],
   "source": [
    "# This notebook includes 3 questions from Introduction to Python Programming."
   ]
  },
  {
   "cell_type": "markdown",
   "metadata": {},
   "source": [
    "Introduction to Python Programming..."
   ]
  },
  {
   "cell_type": "markdown",
   "metadata": {},
   "source": [
    "What's your BMI?\n",
    "Easy\n",
    "solved\n",
    "Write a Python program to calculate your Body Mass Index (BMI).\n",
    "\n",
    "Note: Body mass index is a value derived from the mass and height of a person. The BMI is defined as the body mass divided by the square of the body height, and is expressed in units of kg/m², resulting from mass in kilograms and height in metres. If your BMI is 18.5 to 24.9, it falls within the Healthy Weight range.\n",
    "\n",
    "Example 1:\n",
    "Input:\n",
    "6\n",
    "\n",
    "65\n",
    "\n",
    "Output:\n",
    "1.81"
   ]
  },
  {
   "cell_type": "code",
   "execution_count": 2,
   "metadata": {},
   "outputs": [
    {
     "name": "stdout",
     "output_type": "stream",
     "text": [
      "1.81\n"
     ]
    }
   ],
   "source": [
    "# Write your code here\n",
    "\n",
    "height = float(input())\n",
    "weight = float(input())\n",
    "bmi=weight/height **2\n",
    "print(\"{:.2f}\".format(bmi))"
   ]
  },
  {
   "cell_type": "markdown",
   "metadata": {},
   "source": [
    "Add and Solve\n",
    "Easy\n",
    "solved\n",
    "Write a Python program to solve (x + y) * (x + y).\n",
    "\n",
    "Example 1:\n",
    "Input:\n",
    "4\n",
    "\n",
    "3\n",
    "\n",
    "Output:\n",
    "49"
   ]
  },
  {
   "cell_type": "code",
   "execution_count": 4,
   "metadata": {},
   "outputs": [
    {
     "name": "stdout",
     "output_type": "stream",
     "text": [
      "49\n"
     ]
    }
   ],
   "source": [
    "# Write your code here\n",
    "\n",
    "x = int(input())\n",
    "y = int(input())\n",
    "\n",
    "output= (x + y) * (x + y)\n",
    "print(output)"
   ]
  },
  {
   "cell_type": "markdown",
   "metadata": {},
   "source": [
    "Even Chocolates\n",
    "Easy\n",
    "solved\n",
    "Write a Python program to help Harry to find the mid-point of line so that he can get even number of chocolates from his teacher.\n",
    "\n",
    "Example 1:\n",
    "Input:\n",
    "2\n",
    "\n",
    "2\n",
    "\n",
    "4\n",
    "\n",
    "4\n",
    "\n",
    "Output:\n",
    "Midpoint: 3.0 3.0"
   ]
  },
  {
   "cell_type": "code",
   "execution_count": 5,
   "metadata": {},
   "outputs": [
    {
     "name": "stdout",
     "output_type": "stream",
     "text": [
      "Midpoint: 3.0 3.0\n"
     ]
    }
   ],
   "source": [
    "# Write your code here\n",
    "\n",
    "x1 = float(input())\n",
    "y1 = float(input())\n",
    "\n",
    "x2 = float(input())\n",
    "y2 = float(input())\n",
    "\n",
    "midpoint_x = (x1 + x2) / 2\n",
    "midpoint_y = (y1 + y2) / 2\n",
    "\n",
    "print(\"Midpoint:\",(x1+x2)/2,(y1+y2)/2)"
   ]
  },
  {
   "cell_type": "markdown",
   "metadata": {},
   "source": [
    "end of notebook----"
   ]
  }
 ],
 "metadata": {
  "kernelspec": {
   "display_name": "base",
   "language": "python",
   "name": "python3"
  },
  "language_info": {
   "codemirror_mode": {
    "name": "ipython",
    "version": 3
   },
   "file_extension": ".py",
   "mimetype": "text/x-python",
   "name": "python",
   "nbconvert_exporter": "python",
   "pygments_lexer": "ipython3",
   "version": "3.11.5"
  }
 },
 "nbformat": 4,
 "nbformat_minor": 2
}
