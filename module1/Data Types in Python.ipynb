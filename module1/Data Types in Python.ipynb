{
 "cells": [
  {
   "cell_type": "markdown",
   "metadata": {},
   "source": [
    "#### This notebook includes 3 questions from Data Types in Python"
   ]
  },
  {
   "cell_type": "markdown",
   "metadata": {},
   "source": [
    "Fun game\n",
    "Easy\n",
    "solved\n",
    "Kids on a picnic decided to play fun game and find the area of circle they are sitting on. The radius of circle was assumed to be some floating numbers based on number of students.\n",
    "\n",
    "Area of a Circle\n",
    "\n",
    "In geometry, the area enclosed by a circle of radius r is πr2. Here the Greek letter π represents a constant, approximately equal to 3.14159, which is equal to the ratio of the circumference of any circle to its diameter.\n",
    "\n",
    "Example 1:\n",
    "Input:\n",
    "1.1\n",
    "\n",
    "Output:\n",
    "3.8013271108436504"
   ]
  },
  {
   "cell_type": "code",
   "execution_count": 1,
   "metadata": {},
   "outputs": [
    {
     "name": "stdout",
     "output_type": "stream",
     "text": [
      "3.8013271108436504\n"
     ]
    }
   ],
   "source": [
    "# Write your code here\n",
    "\n",
    "from math import pi\n",
    "r = float(input ())\n",
    "print(pi*r**2)"
   ]
  },
  {
   "cell_type": "markdown",
   "metadata": {},
   "source": [
    "Sum of elements of list\n",
    "Easy\n",
    "solved\n",
    "Isha is assigned a task to calculate the total amount at the end of the day. Provided with a list, write a Python program for Isha to sum all the elements in the list.\n",
    "\n",
    "Example 1:\n",
    "Input:\n",
    "[1,2,-8]\n",
    "\n",
    "Output:\n",
    "-5"
   ]
  },
  {
   "cell_type": "code",
   "execution_count": 2,
   "metadata": {},
   "outputs": [
    {
     "name": "stdout",
     "output_type": "stream",
     "text": [
      "-5\n"
     ]
    }
   ],
   "source": [
    "#write your code here\n",
    "\n",
    "lst = eval(input())\n",
    "sum=0\n",
    "for i in lst:\n",
    "    sum+=i\n",
    "print(sum)"
   ]
  },
  {
   "cell_type": "markdown",
   "metadata": {},
   "source": [
    "Remove common ones out\n",
    "Easy\n",
    "solved\n",
    "Write a Python program to remove duplicates in a string and print in sorted manner.\n",
    "\n",
    "Hint: Use sorted() to sort the set.\n",
    "\n",
    "Example 1:\n",
    "Input:\n",
    "book paper dance draw dance\n",
    "\n",
    "Output:\n",
    "['book', 'dance', 'draw', 'paper']"
   ]
  },
  {
   "cell_type": "code",
   "execution_count": 6,
   "metadata": {},
   "outputs": [
    {
     "name": "stdout",
     "output_type": "stream",
     "text": [
      "['book', 'dance', 'draw', 'paper']\n"
     ]
    }
   ],
   "source": [
    "# Write your code here\n",
    "\n",
    "set_input = set(input().split(' '))\n",
    "unique_words = sorted(set(set_input))\n",
    "\n",
    "# Print the sorted unique words\n",
    "print(unique_words)"
   ]
  },
  {
   "cell_type": "markdown",
   "metadata": {},
   "source": [
    "end of notebook--------------------------------"
   ]
  }
 ],
 "metadata": {
  "kernelspec": {
   "display_name": "base",
   "language": "python",
   "name": "python3"
  },
  "language_info": {
   "codemirror_mode": {
    "name": "ipython",
    "version": 3
   },
   "file_extension": ".py",
   "mimetype": "text/x-python",
   "name": "python",
   "nbconvert_exporter": "python",
   "pygments_lexer": "ipython3",
   "version": "3.11.5"
  }
 },
 "nbformat": 4,
 "nbformat_minor": 2
}
