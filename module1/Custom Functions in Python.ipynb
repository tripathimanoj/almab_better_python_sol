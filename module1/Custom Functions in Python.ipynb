{
 "cells": [
  {
   "cell_type": "markdown",
   "metadata": {},
   "source": [
    "#### This notebook includes 3 questions from Custom Functions in Python."
   ]
  },
  {
   "cell_type": "markdown",
   "metadata": {},
   "source": [
    "Find Contiguous Substrings\n",
    "Medium\n",
    "solved\n",
    "In a job interview, Mihir was asked to find count of all contiguous substrings starting and ending with same character, for a given string S. After an interview, he wrote the recursive python program to check the answer.\n",
    "\n",
    "So, let's practice the same, and write a recursive python function.\n",
    "\n",
    "Example 1:\n",
    "Input:\n",
    "abcab\n",
    "\n",
    "Output:\n",
    "7\n",
    "\n",
    "Explanation:\n",
    "There are 15 substrings of \"abcab\" a, ab, abc, abca, abcab, b, bc, bca bcab, c, ca, cab, a, ab, b\n",
    "\n",
    "Out of the above substrings, there are 7 substrings : a, abca, b, bcab, c, a and b.\n",
    "\n",
    "Example 2:\n",
    "Input:\n",
    "aba\n",
    "\n",
    "Output:\n",
    "4\n",
    "\n",
    "Explanation:\n",
    "The substrings are a, b, a and aba"
   ]
  },
  {
   "cell_type": "code",
   "execution_count": 1,
   "metadata": {},
   "outputs": [
    {
     "name": "stdout",
     "output_type": "stream",
     "text": [
      "4\n"
     ]
    }
   ],
   "source": [
    "# Write your code here\n",
    "\n",
    "\n",
    "#n = len(str)\n",
    "#def countSubstrs(str, i, j, n):\n",
    "\n",
    "def count_contiguous_substrings(s):\n",
    "    count = 0\n",
    "    n = len(s)\n",
    "\n",
    "    for i in range(n):\n",
    "        for j in range(i, n):\n",
    "            if s[i] == s[j]:\n",
    "                count += 1\n",
    "\n",
    "    return count\n",
    "str1 = input()\n",
    "result = count_contiguous_substrings(str1)\n",
    "print(result)\n"
   ]
  },
  {
   "cell_type": "markdown",
   "metadata": {},
   "source": [
    "Find Maximum among set of numbers\n",
    "Easy\n",
    "solved\n",
    "Write a Python function to find the Max of three numbers.\n",
    "\n",
    "Example 1:\n",
    "Input:\n",
    "-10 -20 -30\n",
    "\n",
    "Output:\n",
    "-10"
   ]
  },
  {
   "cell_type": "code",
   "execution_count": 2,
   "metadata": {},
   "outputs": [
    {
     "name": "stdout",
     "output_type": "stream",
     "text": [
      "-10\n"
     ]
    }
   ],
   "source": [
    "# Write your code here\n",
    "\n",
    "def max_ele(a,b,c):\n",
    "  new=(a,b,c)\n",
    "  return max(new)\n",
    "\n",
    "x = int(input())\n",
    "y = int(input())\n",
    "z = int(input())\n",
    "\n",
    "res=max_ele(x,y,z)\n",
    "print(res)"
   ]
  },
  {
   "cell_type": "markdown",
   "metadata": {},
   "source": [
    "Words with Prime Length\n",
    "Easy\n",
    "solved\n",
    "Write a Python program to find the string consisting of all the words whose lengths are prime numbers.\n",
    "\n",
    "Example 1:\n",
    "Input:\n",
    "The quick brown fox jumps over the lazy dog.\n",
    "\n",
    "Output:\n",
    "The quick brown fox jumps the"
   ]
  },
  {
   "cell_type": "code",
   "execution_count": 3,
   "metadata": {},
   "outputs": [
    {
     "name": "stdout",
     "output_type": "stream",
     "text": [
      "The quick brown fox jumps the\n"
     ]
    }
   ],
   "source": [
    "# Write your code here\n",
    "#strs = input()\n",
    "\n",
    "\n",
    "def is_prime(n):\n",
    "    if n <= 1:\n",
    "        return False\n",
    "    if n <= 3:\n",
    "        return True\n",
    "    if n % 2 == 0 or n % 3 == 0:\n",
    "        return False\n",
    "    i = 5\n",
    "    while i * i <= n:\n",
    "        if n % i == 0 or n % (i + 2) == 0:\n",
    "            return False\n",
    "        i += 6\n",
    "    return True\n",
    "\n",
    "strs = input()\n",
    "\n",
    "words = strs.split()\n",
    "\n",
    "\n",
    "prime_length_words = [word for word in words if is_prime(len(word))]\n",
    "\n",
    "output_string = \" \".join(prime_length_words)\n",
    "\n",
    "print(output_string)\n"
   ]
  },
  {
   "cell_type": "markdown",
   "metadata": {},
   "source": [
    "end of notebook--------------------------"
   ]
  }
 ],
 "metadata": {
  "kernelspec": {
   "display_name": "base",
   "language": "python",
   "name": "python3"
  },
  "language_info": {
   "codemirror_mode": {
    "name": "ipython",
    "version": 3
   },
   "file_extension": ".py",
   "mimetype": "text/x-python",
   "name": "python",
   "nbconvert_exporter": "python",
   "pygments_lexer": "ipython3",
   "version": "3.11.5"
  }
 },
 "nbformat": 4,
 "nbformat_minor": 2
}
