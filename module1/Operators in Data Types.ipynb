{
 "cells": [
  {
   "cell_type": "markdown",
   "metadata": {},
   "source": [
    "#### This notebook includes 3 questions from Indexing and slicing."
   ]
  },
  {
   "cell_type": "markdown",
   "metadata": {},
   "source": [
    "Easy Maths\n",
    "Easy\n",
    "solved\n",
    "Help Naina to solve the two-varable equation (x + y) * (x + y) using Python programming.\n",
    "\n",
    "Example 1:\n",
    "Input:\n",
    "4\n",
    "\n",
    "3\n",
    "\n",
    "Output:\n",
    "49"
   ]
  },
  {
   "cell_type": "code",
   "execution_count": 2,
   "metadata": {},
   "outputs": [
    {
     "name": "stdout",
     "output_type": "stream",
     "text": [
      "49\n"
     ]
    }
   ],
   "source": [
    "# Write your code here\n",
    "\n",
    "x = int(input())\n",
    "y = int(input())\n",
    "\n",
    "output=(x + y) * (x + y)\n",
    "print(output)"
   ]
  },
  {
   "cell_type": "markdown",
   "metadata": {},
   "source": [
    "Python Problem\n",
    "Easy\n",
    "solved\n",
    "Write a Python program to solve (x + y) * (x + y).\n",
    "\n",
    "Test Data : x = 4, y = 3\n",
    "\n",
    "Expected Output : (4 + 3) ^ 2) = 49\n",
    "\n",
    "Example 1:\n",
    "Input:\n",
    "4\n",
    "\n",
    "3\n",
    "\n",
    "Output:\n",
    "49"
   ]
  },
  {
   "cell_type": "code",
   "execution_count": 3,
   "metadata": {},
   "outputs": [
    {
     "name": "stdout",
     "output_type": "stream",
     "text": [
      "49\n"
     ]
    }
   ],
   "source": [
    "# Write your code here\n",
    "\n",
    "x=int(input())\n",
    "y=int(input())\n",
    "out1=(x + y) \n",
    "output=out1**2\n",
    "print(output)"
   ]
  },
  {
   "cell_type": "markdown",
   "metadata": {},
   "source": [
    "Range of 100 from 1000 or 2000\n",
    "Easy\n",
    "solved\n",
    "Write a Python program to test whether a number is within 100 of 1000 or 2000.\n",
    "\n",
    "Python abs(x) function:\n",
    "\n",
    "The function returns the absolute value of a number. The argument may be an integer or a floating point number. If the argument is a complex number, its magnitude is returned.\n",
    "\n",
    "Example 1:\n",
    "Input:\n",
    "1000\n",
    "\n",
    "Output:\n",
    "True"
   ]
  },
  {
   "cell_type": "code",
   "execution_count": 4,
   "metadata": {},
   "outputs": [
    {
     "name": "stdout",
     "output_type": "stream",
     "text": [
      "True\n"
     ]
    }
   ],
   "source": [
    "# Write your code here\n",
    "\n",
    "n = int(input())\n",
    "if abs(n - 1000) <= 100 or abs(n - 2000) <= 100:\n",
    "    print(True)\n",
    "else:\n",
    "    print(False)"
   ]
  },
  {
   "cell_type": "markdown",
   "metadata": {},
   "source": [
    "end of notebook------------------"
   ]
  }
 ],
 "metadata": {
  "kernelspec": {
   "display_name": "base",
   "language": "python",
   "name": "python3"
  },
  "language_info": {
   "codemirror_mode": {
    "name": "ipython",
    "version": 3
   },
   "file_extension": ".py",
   "mimetype": "text/x-python",
   "name": "python",
   "nbconvert_exporter": "python",
   "pygments_lexer": "ipython3",
   "version": "3.11.5"
  }
 },
 "nbformat": 4,
 "nbformat_minor": 2
}
