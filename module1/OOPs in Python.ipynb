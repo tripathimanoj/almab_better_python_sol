{
 "cells": [
  {
   "cell_type": "markdown",
   "metadata": {},
   "source": [
    "#### This notebook includes 3 questions from OOPs in Python."
   ]
  },
  {
   "cell_type": "markdown",
   "metadata": {},
   "source": [
    "First & Last element\n",
    "Easy\n",
    "solved\n",
    "Write a Python program to display the first and last colors from the following list.\n",
    "\n",
    "color_list = [\"Red\",\"Green\",\"White\" ,\"Black\"]\n",
    "\n",
    "Example 1:\n",
    "Input:\n",
    "[\"Red\",\"Green\",\"White\" ,\"Black\"]\n",
    "\n",
    "Output:\n",
    "Red Black"
   ]
  },
  {
   "cell_type": "code",
   "execution_count": 1,
   "metadata": {},
   "outputs": [
    {
     "name": "stdout",
     "output_type": "stream",
     "text": [
      "Red Black\n"
     ]
    }
   ],
   "source": [
    "# Write your code here\n",
    "\n",
    "#lst = eval(input())\n",
    "\n",
    "class First_last:    # create a class\n",
    "\n",
    "    def __init__(self,lst):  # defining class atributes\n",
    "        self.lst=lst\n",
    "    \n",
    "    def data(self):     # method to be executed...\n",
    "        first=self.lst[0]\n",
    "        last=self.lst[-1]\n",
    "        #return first,last\n",
    "        print(first,last)\n",
    "\n",
    "fl=First_last(eval(input())) # creating a class object \n",
    "fl.data() # calling a class method."
   ]
  },
  {
   "cell_type": "markdown",
   "metadata": {},
   "source": [
    "Median among three numbers\n",
    "Hard\n",
    "solved\n",
    "Write a Python program to find the median among three given numbers.\n",
    "\n",
    "Example 1:\n",
    "Input:\n",
    "25\n",
    "\n",
    "15\n",
    "\n",
    "35\n",
    "\n",
    "Output:\n",
    "25"
   ]
  },
  {
   "cell_type": "code",
   "execution_count": 2,
   "metadata": {},
   "outputs": [
    {
     "name": "stdout",
     "output_type": "stream",
     "text": [
      "25\n"
     ]
    }
   ],
   "source": [
    "# Write your code here\n",
    "\n",
    "'''x = int(input())\n",
    "y = int(input())\n",
    "z = int(input())'''\n",
    "\n",
    "\n",
    "class Find_mid: #create class\n",
    "\n",
    "    def __init__(self,x,y,z): # diffinig class attributes\n",
    "        self.x=x\n",
    "        self.y=y\n",
    "        self.z=z\n",
    "\n",
    "    def get_mid(self):   # createing method\n",
    "        list_nums=[self.x,self.y,self.z]\n",
    "        list_nums.sort()\n",
    "        print(list_nums[-2])\n",
    "\n",
    "fm=Find_mid(int(input()),int(input()),int(input()))  # creating object of class\n",
    "fm.get_mid() # calling class method."
   ]
  },
  {
   "cell_type": "markdown",
   "metadata": {},
   "source": [
    "Money denomination\n",
    "solved\n",
    "Write a Python program to find the number of notes (Sample of notes: 10, 20, 50, 100, 200 and 500 ) against a given amount.\n",
    "\n",
    "Range - Number of notes(n) : n (1 ≤ n ≤ 1000000).\n",
    "\n",
    "Example 1:\n",
    "Input:\n",
    "880\n",
    "\n",
    "Output:\n",
    "6"
   ]
  },
  {
   "cell_type": "code",
   "execution_count": 3,
   "metadata": {},
   "outputs": [
    {
     "name": "stdout",
     "output_type": "stream",
     "text": [
      "6\n"
     ]
    }
   ],
   "source": [
    "#write your code inside main function\n",
    "'''def  main():\n",
    "  a = int(input())\n",
    "  b = int(input())\n",
    "  \n",
    "main();'''\n",
    "\n",
    "class Total_notes: # creating class\n",
    "\n",
    "    def __init__(self,amount): # class attributes\n",
    "        self.amount=amount\n",
    "\n",
    "    def get_note_counts(self): # creating method\n",
    "\n",
    "        notes_500 = notes_200 = notes_100 = notes_50 = notes_20 = notes_10 = 0\n",
    "        if self.amount >= 500:\n",
    "            notes_500 = self.amount // 500\n",
    "            self.amount %= 500\n",
    "\n",
    "        if self.amount >= 200:\n",
    "            notes_200 = self.amount // 200\n",
    "            self.amount %= 200\n",
    "\n",
    "        if self.amount >= 100:\n",
    "            notes_100 = self.amount // 100\n",
    "            self.amount %= 100\n",
    "\n",
    "        if self.amount >= 50:\n",
    "            notes_50 = self.amount // 50\n",
    "            self.amount %= 50\n",
    "\n",
    "        if self.amount >= 20:\n",
    "            notes_20 = self.amount // 20\n",
    "            self.amount %= 20\n",
    "\n",
    "        if self.amount >= 10:\n",
    "            notes_10 = self.amount // 10\n",
    "\n",
    "        total_notes = notes_500 + notes_200 + notes_100 + notes_50 + notes_20 + notes_10\n",
    "\n",
    "        print(total_notes)\n",
    "tn=Total_notes(int(input())) # creating class object\n",
    "tn.get_note_counts() # calling class method"
   ]
  },
  {
   "cell_type": "markdown",
   "metadata": {},
   "source": [
    "End of notebook---------------"
   ]
  }
 ],
 "metadata": {
  "kernelspec": {
   "display_name": "Python 3",
   "language": "python",
   "name": "python3"
  },
  "language_info": {
   "codemirror_mode": {
    "name": "ipython",
    "version": 3
   },
   "file_extension": ".py",
   "mimetype": "text/x-python",
   "name": "python",
   "nbconvert_exporter": "python",
   "pygments_lexer": "ipython3",
   "version": "3.11.2"
  }
 },
 "nbformat": 4,
 "nbformat_minor": 2
}
