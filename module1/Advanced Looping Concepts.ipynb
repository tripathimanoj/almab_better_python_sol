{
 "cells": [
  {
   "cell_type": "markdown",
   "metadata": {},
   "source": [
    "#### This notebook includes 3 questions from Advanced Looping Concepts."
   ]
  },
  {
   "cell_type": "markdown",
   "metadata": {},
   "source": [
    "Clean the Data\n",
    "Easy\n",
    "solved\n",
    "When we work on Data Science projects, we start with Data Cleaning i.e removing all rows where the features have NA/None values. This is done to achieve maximum accuracy from our prediction models. So, write a Python program to remove None value from a given list. (Using list comprehension)\n",
    "\n",
    "Example 1:\n",
    "Input:\n",
    "[12, 0, None, 23, None, -55, 234, 89, None, 0, 6, -12]\n",
    "\n",
    "Output:\n",
    "[12, 0, 23, -55, 234, 89, 0, 6, -12]"
   ]
  },
  {
   "cell_type": "code",
   "execution_count": 1,
   "metadata": {},
   "outputs": [
    {
     "name": "stdout",
     "output_type": "stream",
     "text": [
      "[12, 0, 23, -55, 234, 89, 0, 6, -12]\n"
     ]
    }
   ],
   "source": [
    "# Write your code here\n",
    "\n",
    "nums = eval(input())\n",
    "\n",
    "\n",
    "filtered_list = list(filter(lambda x: x is not None and x != 'NA', nums))\n",
    "\n",
    "print(filtered_list)"
   ]
  },
  {
   "cell_type": "markdown",
   "metadata": {},
   "source": [
    "Remove the list from list\n",
    "Easy\n",
    "solved\n",
    "Mr. Alberto wants to remove some numbers from the list of numbers to test his equation for numerical research. So, write a Python program to help him to remove all elements from a given list present in another list. (Using list comprehension)\n",
    "\n",
    "Example 1:\n",
    "Input:\n",
    "[1,2,3,4,5,6,7,8,9,10]\n",
    "\n",
    "[2,4,6,8]\n",
    "\n",
    "Output:\n",
    "[1, 3, 5, 7, 9, 10]"
   ]
  },
  {
   "cell_type": "code",
   "execution_count": 2,
   "metadata": {},
   "outputs": [
    {
     "name": "stdout",
     "output_type": "stream",
     "text": [
      "[1, 3, 5, 7, 9, 10]\n"
     ]
    }
   ],
   "source": [
    "# Write your code here\n",
    "lst1 = eval(input())\n",
    "lst2 = eval(input())\n",
    "\n",
    "'''res=[]\n",
    "\n",
    "for i in lst1:\n",
    "    if i not in lst2:\n",
    "        res.append(i)\n",
    "\n",
    "print(res)'''\n",
    "\n",
    "res = [i for i in lst1 if i not in lst2]\n",
    "\n",
    "print(res)\n"
   ]
  },
  {
   "cell_type": "markdown",
   "metadata": {},
   "source": [
    "Count the Characters\n",
    "Easy\n",
    "solved\n",
    "Write a Python program to count the number of characters (character frequency) in a string.\n",
    "\n",
    "Example 1:\n",
    "Input:\n",
    "google.com\n",
    "\n",
    "Output:\n",
    "{'g': 2, 'o': 3, 'l': 1, 'e': 1, '.': 1, 'c': 1, 'm': 1}\n",
    "\n",
    "Example 2:\n",
    "Input:\n",
    "AlmaBetter\n",
    "\n",
    "Output:\n",
    "{'a': 2, 'l': 1, 'm': 1, 'b': 1, 'e': 2, 't': 2, 'r': 1}\n",
    "\n",
    "Example 3:\n",
    "Input:\n",
    "Data Scientist\n",
    "\n",
    "Output:\n",
    "{'d': 1, 'a': 2, 't': 3, ' ': 1, 's': 2, 'c': 1, 'i': 2, 'e': 1, 'n': 1}"
   ]
  },
  {
   "cell_type": "code",
   "execution_count": 3,
   "metadata": {},
   "outputs": [
    {
     "name": "stdout",
     "output_type": "stream",
     "text": [
      "{'g': 2, 'o': 3, 'l': 1, 'e': 1, '.': 1, 'c': 1, 'm': 1}\n"
     ]
    }
   ],
   "source": [
    "# Write your code here\n",
    "\n",
    "from collections import Counter\n",
    "strng = input().lower()\n",
    "\n",
    "char_frequency = Counter(strng)\n",
    "\n",
    "d=dict(char_frequency)\n",
    "print(d)"
   ]
  },
  {
   "cell_type": "markdown",
   "metadata": {},
   "source": [
    "end of notebook------------------------------"
   ]
  }
 ],
 "metadata": {
  "kernelspec": {
   "display_name": "base",
   "language": "python",
   "name": "python3"
  },
  "language_info": {
   "codemirror_mode": {
    "name": "ipython",
    "version": 3
   },
   "file_extension": ".py",
   "mimetype": "text/x-python",
   "name": "python",
   "nbconvert_exporter": "python",
   "pygments_lexer": "ipython3",
   "version": "3.11.5"
  }
 },
 "nbformat": 4,
 "nbformat_minor": 2
}
