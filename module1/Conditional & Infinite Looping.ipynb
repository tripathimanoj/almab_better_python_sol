{
 "cells": [
  {
   "cell_type": "markdown",
   "metadata": {},
   "source": [
    "#### This notebook includes 3 questions from Conditional & Infinite Looping."
   ]
  },
  {
   "cell_type": "markdown",
   "metadata": {},
   "source": [
    "Let's Begin with Basic Statistics\n",
    "Medium\n",
    "solved\n",
    "In Statistics, Mean (average) is a common term used to analyze the data. Thus, we should know how to program this Statistical term using Python. For this, write a Python program to calculate the sum and average (Mean) of n integer numbers (input from the user). Input 0 to finish the list.\n",
    "\n",
    "Sample:\n",
    "\n",
    "Input some integers to calculate their sum and average. Input 0 to exit .\n",
    "15\n",
    "16\n",
    "12\n",
    "0\n",
    "\n",
    "Average and Sum of the above numbers are: 14.333333333333334 43.0\n",
    "\n",
    "Example 1:\n",
    "Input:\n",
    "2\n",
    "\n",
    "4\n",
    "\n",
    "6\n",
    "\n",
    "8\n",
    "\n",
    "10\n",
    "\n",
    "0\n",
    "\n",
    "Output:\n",
    "Average and Sum of the above numbers are: 6.0 30.0"
   ]
  },
  {
   "cell_type": "code",
   "execution_count": 2,
   "metadata": {},
   "outputs": [
    {
     "name": "stdout",
     "output_type": "stream",
     "text": [
      "Average and Sum of the above numbers are: 6.0 30.0\n"
     ]
    }
   ],
   "source": [
    "total_sum = 0\n",
    "count = 0\n",
    "\n",
    "while True:\n",
    "    num = int(input())\n",
    "    \n",
    "    if num == 0:\n",
    "        break\n",
    "    \n",
    "    total_sum += num\n",
    "    count += 1\n",
    "\n",
    "if count == 0:\n",
    "    average = 0 \n",
    "else:\n",
    "    average =total_sum / count\n",
    "\n",
    "average=float(average)\n",
    "total_sum=float(total_sum)\n",
    "print(f\"Average and Sum of the above numbers are: {average} {total_sum}\")\n"
   ]
  },
  {
   "cell_type": "markdown",
   "metadata": {},
   "source": [
    "Write a Python program to find the closest palindrome from a given string.\n",
    "\n",
    "Example 1:\n",
    "Input:\n",
    "cat\n",
    "\n",
    "Output:\n",
    "cac\n",
    "\n",
    "Example 2:\n",
    "Input:\n",
    "madan\n",
    "\n",
    "Output:\n",
    "madam"
   ]
  },
  {
   "cell_type": "code",
   "execution_count": 3,
   "metadata": {},
   "outputs": [
    {
     "name": "stdout",
     "output_type": "stream",
     "text": [
      "cca\n"
     ]
    }
   ],
   "source": [
    "# code updation is required will debug it later.\n",
    "input_str = input()\n",
    "\n",
    "def is_palindrome(s):\n",
    "    return s == s[::-1]\n",
    "\n",
    "if is_palindrome(input_str):\n",
    "    print(input_str)\n",
    "else:\n",
    "    length = len(input_str)\n",
    "    left_half = input_str[:length // 2] # taking left half and rest of it is right half for comparing.\n",
    "    right_half = left_half[::-1]\n",
    "\n",
    "    palindrome = left_half + right_half\n",
    "\n",
    "    if len(input_str) % 2 != 0:\n",
    "        palindrome += input_str[length // 2]  # facing issue here...........\n",
    "\n",
    "    print(palindrome)"
   ]
  },
  {
   "cell_type": "markdown",
   "metadata": {},
   "source": [
    "Mingle to Single\n",
    "Easy\n",
    "solved\n",
    "In a competition, participants were given a number to sum its digits until it was a single-digit number. So, write a Python program to add the digits of a positive integer repeatedly until the result has a single digit.\n",
    "\n",
    "Example 1:\n",
    "Input:\n",
    "7548\n",
    "\n",
    "Output:\n",
    "Step-1 Sum: 24\n",
    "\n",
    "Step-2 Sum: 6"
   ]
  },
  {
   "cell_type": "code",
   "execution_count": 1,
   "metadata": {},
   "outputs": [
    {
     "name": "stdout",
     "output_type": "stream",
     "text": [
      "Step-1 Sum: 24\n",
      "Step-2 Sum: 6\n"
     ]
    }
   ],
   "source": [
    "#Please ensure the platform IDE is in Python 3.x mode.\n",
    "\n",
    "#n = int(input())\n",
    "\n",
    "number = int(input())\n",
    "step = 1\n",
    "\n",
    "while number >= 10:\n",
    "    digit_sum = 0\n",
    "    while number > 0:\n",
    "        digit_sum += number % 10\n",
    "        number //= 10\n",
    "    number = digit_sum\n",
    "    print(f\"Step-{step} Sum: {number}\")\n",
    "    step += 1\n",
    "\n",
    "#print(f\"Final Result: {number}\")\n"
   ]
  },
  {
   "cell_type": "markdown",
   "metadata": {},
   "source": [
    "end of notebook----------------------------"
   ]
  }
 ],
 "metadata": {
  "kernelspec": {
   "display_name": "base",
   "language": "python",
   "name": "python3"
  },
  "language_info": {
   "codemirror_mode": {
    "name": "ipython",
    "version": 3
   },
   "file_extension": ".py",
   "mimetype": "text/x-python",
   "name": "python",
   "nbconvert_exporter": "python",
   "pygments_lexer": "ipython3",
   "version": "3.11.5"
  }
 },
 "nbformat": 4,
 "nbformat_minor": 2
}
