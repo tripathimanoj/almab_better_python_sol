{
 "cells": [
  {
   "cell_type": "code",
   "execution_count": 25,
   "metadata": {
    "collapsed": false
   },
   "outputs": [],
   "source": [
    "# Import the required libraries\n",
    "import requests\n",
    "from bs4 import BeautifulSoup\n",
    "import pandas as pd\n",
    "import matplotlib\n",
    "%matplotlib inline"
   ]
  },
  {
   "cell_type": "markdown",
   "metadata": {},
   "source": [
    "Read the page at the specified URL:  reading ml jobs from ==> https://www.naukri.com/machine-learning-jobs"
   ]
  },
  {
   "cell_type": "code",
   "execution_count": 28,
   "metadata": {},
   "outputs": [
    {
     "name": "stdout",
     "output_type": "stream",
     "text": [
      "<Response [200]>\n"
     ]
    },
    {
     "ename": "TypeError",
     "evalue": "object of type 'NoneType' has no len()",
     "output_type": "error",
     "traceback": [
      "\u001b[1;31m---------------------------------------------------------------------------\u001b[0m",
      "\u001b[1;31mTypeError\u001b[0m                                 Traceback (most recent call last)",
      "\u001b[1;32me:\\alma_better_github\\almab_better_python_sol\\web_scraping\\ML_Job_Scraping.ipynb Cell 3\u001b[0m line \u001b[0;36m1\n\u001b[0;32m      <a href='vscode-notebook-cell:/e%3A/alma_better_github/almab_better_python_sol/web_scraping/ML_Job_Scraping.ipynb#X53sZmlsZQ%3D%3D?line=8'>9</a>\u001b[0m \u001b[39m#a=soup.find(class_='styles_jlc__main__VdwtF')\u001b[39;00m\n\u001b[0;32m     <a href='vscode-notebook-cell:/e%3A/alma_better_github/almab_better_python_sol/web_scraping/ML_Job_Scraping.ipynb#X53sZmlsZQ%3D%3D?line=9'>10</a>\u001b[0m \u001b[39m#title = soup.find(\"div\",{\"class\":\" row1\"}).getText().strip()\u001b[39;00m\n\u001b[0;32m     <a href='vscode-notebook-cell:/e%3A/alma_better_github/almab_better_python_sol/web_scraping/ML_Job_Scraping.ipynb#X53sZmlsZQ%3D%3D?line=10'>11</a>\u001b[0m title \u001b[39m=\u001b[39m soup\u001b[39m.\u001b[39mfind(\u001b[39m\"\u001b[39m\u001b[39mdiv\u001b[39m\u001b[39m\"\u001b[39m,{\u001b[39m\"\u001b[39m\u001b[39mclass\u001b[39m\u001b[39m\"\u001b[39m:\u001b[39m\"\u001b[39m\u001b[39m row1\u001b[39m\u001b[39m\"\u001b[39m})\n\u001b[1;32m---> <a href='vscode-notebook-cell:/e%3A/alma_better_github/almab_better_python_sol/web_scraping/ML_Job_Scraping.ipynb#X53sZmlsZQ%3D%3D?line=11'>12</a>\u001b[0m \u001b[39mprint\u001b[39m(\u001b[39mlen\u001b[39m(title))\n\u001b[0;32m     <a href='vscode-notebook-cell:/e%3A/alma_better_github/almab_better_python_sol/web_scraping/ML_Job_Scraping.ipynb#X53sZmlsZQ%3D%3D?line=12'>13</a>\u001b[0m \u001b[39mprint\u001b[39m(title)\n",
      "\u001b[1;31mTypeError\u001b[0m: object of type 'NoneType' has no len()"
     ]
    }
   ],
   "source": [
    "url = 'https://www.naukri.com/machine-learning-jobs'\n",
    "\n",
    "headers = {'User-Agent': 'Mozilla/5.0 (Windows NT 10.0; Win64; x64) AppleWebKit/537.36 (KHTML, like Gecko) Chrome/91.0.4472.124 Safari/537.36'}\n",
    "\n",
    "response = requests.get(url, headers=headers)\n",
    "print(response)\n",
    "if response.status_code == 200:\n",
    "    soup = BeautifulSoup(response.content, 'html.parser')\n",
    "    #a=soup.find(class_='styles_jlc__main__VdwtF')\n",
    "    #title = soup.find(\"div\",{\"class\":\" row1\"}).getText().strip()\n",
    "    title = soup.find(\"div\",{\"class\":\" row1\"})\n",
    "    print(len(title))\n",
    "    print(title)\n"
   ]
  },
  {
   "cell_type": "code",
   "execution_count": null,
   "metadata": {
    "collapsed": false
   },
   "outputs": [],
   "source": []
  },
  {
   "cell_type": "code",
   "execution_count": null,
   "metadata": {},
   "outputs": [],
   "source": []
  },
  {
   "cell_type": "code",
   "execution_count": null,
   "metadata": {},
   "outputs": [],
   "source": []
  },
  {
   "cell_type": "code",
   "execution_count": null,
   "metadata": {},
   "outputs": [],
   "source": []
  },
  {
   "cell_type": "code",
   "execution_count": null,
   "metadata": {},
   "outputs": [],
   "source": []
  },
  {
   "cell_type": "code",
   "execution_count": null,
   "metadata": {},
   "outputs": [],
   "source": []
  },
  {
   "cell_type": "code",
   "execution_count": null,
   "metadata": {},
   "outputs": [],
   "source": []
  },
  {
   "cell_type": "code",
   "execution_count": null,
   "metadata": {},
   "outputs": [],
   "source": []
  },
  {
   "cell_type": "code",
   "execution_count": null,
   "metadata": {},
   "outputs": [],
   "source": []
  },
  {
   "cell_type": "code",
   "execution_count": null,
   "metadata": {},
   "outputs": [],
   "source": []
  },
  {
   "cell_type": "code",
   "execution_count": null,
   "metadata": {},
   "outputs": [],
   "source": []
  },
  {
   "cell_type": "code",
   "execution_count": null,
   "metadata": {},
   "outputs": [],
   "source": []
  },
  {
   "cell_type": "code",
   "execution_count": null,
   "metadata": {},
   "outputs": [],
   "source": []
  },
  {
   "cell_type": "code",
   "execution_count": null,
   "metadata": {},
   "outputs": [],
   "source": []
  },
  {
   "cell_type": "code",
   "execution_count": null,
   "metadata": {},
   "outputs": [],
   "source": []
  },
  {
   "cell_type": "code",
   "execution_count": null,
   "metadata": {},
   "outputs": [],
   "source": []
  },
  {
   "cell_type": "code",
   "execution_count": null,
   "metadata": {},
   "outputs": [],
   "source": []
  },
  {
   "cell_type": "code",
   "execution_count": null,
   "metadata": {},
   "outputs": [],
   "source": []
  },
  {
   "cell_type": "code",
   "execution_count": null,
   "metadata": {},
   "outputs": [],
   "source": []
  },
  {
   "cell_type": "code",
   "execution_count": null,
   "metadata": {},
   "outputs": [],
   "source": []
  },
  {
   "cell_type": "code",
   "execution_count": null,
   "metadata": {},
   "outputs": [],
   "source": []
  },
  {
   "cell_type": "code",
   "execution_count": null,
   "metadata": {},
   "outputs": [],
   "source": []
  },
  {
   "cell_type": "code",
   "execution_count": null,
   "metadata": {},
   "outputs": [],
   "source": []
  },
  {
   "cell_type": "code",
   "execution_count": null,
   "metadata": {},
   "outputs": [],
   "source": []
  },
  {
   "cell_type": "code",
   "execution_count": null,
   "metadata": {},
   "outputs": [],
   "source": []
  },
  {
   "cell_type": "code",
   "execution_count": null,
   "metadata": {},
   "outputs": [],
   "source": []
  },
  {
   "cell_type": "code",
   "execution_count": null,
   "metadata": {},
   "outputs": [],
   "source": []
  },
  {
   "cell_type": "code",
   "execution_count": null,
   "metadata": {},
   "outputs": [],
   "source": []
  },
  {
   "cell_type": "code",
   "execution_count": null,
   "metadata": {},
   "outputs": [],
   "source": []
  },
  {
   "cell_type": "code",
   "execution_count": null,
   "metadata": {},
   "outputs": [],
   "source": []
  },
  {
   "cell_type": "code",
   "execution_count": null,
   "metadata": {},
   "outputs": [],
   "source": []
  },
  {
   "cell_type": "code",
   "execution_count": null,
   "metadata": {},
   "outputs": [],
   "source": []
  },
  {
   "cell_type": "code",
   "execution_count": null,
   "metadata": {},
   "outputs": [],
   "source": []
  },
  {
   "cell_type": "code",
   "execution_count": null,
   "metadata": {},
   "outputs": [],
   "source": []
  },
  {
   "cell_type": "code",
   "execution_count": null,
   "metadata": {},
   "outputs": [],
   "source": []
  },
  {
   "cell_type": "code",
   "execution_count": null,
   "metadata": {},
   "outputs": [],
   "source": []
  },
  {
   "cell_type": "code",
   "execution_count": null,
   "metadata": {},
   "outputs": [],
   "source": []
  },
  {
   "cell_type": "code",
   "execution_count": null,
   "metadata": {},
   "outputs": [],
   "source": []
  },
  {
   "cell_type": "code",
   "execution_count": null,
   "metadata": {},
   "outputs": [],
   "source": []
  },
  {
   "cell_type": "code",
   "execution_count": null,
   "metadata": {},
   "outputs": [],
   "source": []
  },
  {
   "cell_type": "code",
   "execution_count": null,
   "metadata": {},
   "outputs": [],
   "source": []
  },
  {
   "cell_type": "code",
   "execution_count": null,
   "metadata": {},
   "outputs": [],
   "source": []
  },
  {
   "cell_type": "code",
   "execution_count": null,
   "metadata": {},
   "outputs": [],
   "source": []
  },
  {
   "cell_type": "code",
   "execution_count": null,
   "metadata": {},
   "outputs": [],
   "source": []
  },
  {
   "cell_type": "code",
   "execution_count": null,
   "metadata": {},
   "outputs": [],
   "source": []
  },
  {
   "cell_type": "code",
   "execution_count": null,
   "metadata": {},
   "outputs": [],
   "source": []
  },
  {
   "cell_type": "code",
   "execution_count": null,
   "metadata": {},
   "outputs": [],
   "source": []
  },
  {
   "cell_type": "markdown",
   "metadata": {},
   "source": [
    "Within each page, we now extract the urls that link to the corresponding job description: "
   ]
  },
  {
   "cell_type": "code",
   "execution_count": 18,
   "metadata": {
    "collapsed": false
   },
   "outputs": [
    {
     "name": "stdout",
     "output_type": "stream",
     "text": [
      "[]\n"
     ]
    }
   ],
   "source": [
    "all_links = [link.get('href') for link in soup.findAll('a') if 'job-listings' in  str(link.get('href'))]\n",
    "print(all_links)"
   ]
  },
  {
   "cell_type": "markdown",
   "metadata": {},
   "source": [
    "Next, we scrape the job description for a sample job page in the list obtained above:"
   ]
  },
  {
   "cell_type": "code",
   "execution_count": 24,
   "metadata": {
    "collapsed": true
   },
   "outputs": [],
   "source": [
    "jd_url = all_links[2]\n",
    "jd_source = urllib2.urlopen(jd_url).read()\n",
    "jd_soup = bs4.BeautifulSoup(jd_source,\"lxml\")"
   ]
  },
  {
   "cell_type": "markdown",
   "metadata": {},
   "source": [
    "Extract the individual job level attributes. The key here is to identify the correct tag and extract the text enclosed within those tags."
   ]
  },
  {
   "cell_type": "code",
   "execution_count": 25,
   "metadata": {
    "collapsed": false
   },
   "outputs": [
    {
     "name": "stdout",
     "output_type": "stream",
     "text": [
      "Mumbai\n"
     ]
    }
   ],
   "source": [
    "# Job Location\n",
    "location = jd_soup.find(\"div\",{\"class\":\"loc\"}).getText().strip()\n",
    "print location"
   ]
  },
  {
   "cell_type": "code",
   "execution_count": 26,
   "metadata": {
    "collapsed": false
   },
   "outputs": [
    {
     "name": "stdout",
     "output_type": "stream",
     "text": [
      "We are looking for a machine learning scientist who can use their skills to research, build and implement solutions in the field of natural language processing, automated answers, semantic knowledge extraction from structured data and unstructured text. You should have a deep love for Machine Learning, Natural Language processing and a strong desire to solve challenging problems.  Responsibilities :  - Using NLP and machine learning techniques to create scalable solutions.  - Researching and coming up with novel approaches to solve real world problems.  - Working closely with the engineering teams to drive real-time model implementations and new feature creations.\n"
     ]
    }
   ],
   "source": [
    "# Job Description\n",
    "jd_text = jd_soup.find(\"ul\",{\"itemprop\":\"description\"}).getText().strip()\n",
    "print jd_text"
   ]
  },
  {
   "cell_type": "code",
   "execution_count": 27,
   "metadata": {
    "collapsed": false
   },
   "outputs": [
    {
     "name": "stdout",
     "output_type": "stream",
     "text": [
      "3 - 4 yrs\n"
     ]
    }
   ],
   "source": [
    "# Experience Level\n",
    "experience = jd_soup.find(\"span\",{\"itemprop\":\"experienceRequirements\"}).getText().strip()\n",
    "print experience"
   ]
  },
  {
   "cell_type": "code",
   "execution_count": 28,
   "metadata": {
    "collapsed": false
   },
   "outputs": [
    {
     "name": "stdout",
     "output_type": "stream",
     "text": [
      "{'Salary': u'Not Disclosed by Recruiter', 'Functional Area': u'Analytics & Business Intelligence', 'Industry': u'IT-Software  /    Software Services', 'Role Category': u'Analytics & BI', 'Design Role': u'Data Analyst'}\n"
     ]
    }
   ],
   "source": [
    "# Role Level Information\n",
    "labels = ['Salary', 'Industry', 'Functional Area', 'Role Category', 'Design Role']\n",
    "role_info = [content.getText().split(':')[-1].strip() for content in jd_soup.find(\"div\",{\"class\":\"jDisc mt20\"}).contents \n",
    " if len(str(content).replace(' ',''))!=0]\n",
    "\n",
    "role_info_dict = {label: role_info for label, role_info in zip(labels, role_info)}\n",
    "print role_info_dict"
   ]
  },
  {
   "cell_type": "code",
   "execution_count": 29,
   "metadata": {
    "collapsed": false
   },
   "outputs": [
    {
     "name": "stdout",
     "output_type": "stream",
     "text": [
      "Machine Learning|Natural Language Processing|NLP|Research|Statistical Models|Big data|Statistical Modeling \n"
     ]
    }
   ],
   "source": [
    "# Skills required\n",
    "key_skills = '|'.join(jd_soup.find(\"div\",{\"class\":\"ksTags\"}).getText().split('  '))[1:]\n",
    "print key_skills"
   ]
  },
  {
   "cell_type": "code",
   "execution_count": 30,
   "metadata": {
    "collapsed": false
   },
   "outputs": [
    {
     "name": "stdout",
     "output_type": "stream",
     "text": [
      "{u'UG': u'Any Graduate - Any Specialization', u'Doctorate': u'Doctorate Not Required', 'PG': ''}\n"
     ]
    }
   ],
   "source": [
    "# Education Level\n",
    "edu_info = [content.getText().split(':') for content in jd_soup.find(\"div\",{\"itemprop\":\"educationRequirements\"}).contents \n",
    " if len(str(content).replace(' ',''))!=0]\n",
    "\n",
    "edu_info_dict = {label.strip(): edu_info.strip() for label, edu_info in edu_info}\n",
    "\n",
    "# Sometimes the education information for one of the degrees can be missing\n",
    "edu_labels = ['UG', 'PG', 'Doctorate']\n",
    "for l in edu_labels:\n",
    "    if l not in edu_info_dict.keys():\n",
    "        edu_info_dict[l] = ''\n",
    "print edu_info_dict"
   ]
  },
  {
   "cell_type": "code",
   "execution_count": 32,
   "metadata": {
    "collapsed": false
   },
   "outputs": [
    {
     "name": "stdout",
     "output_type": "stream",
     "text": [
      "Premium-Jobs\n"
     ]
    }
   ],
   "source": [
    "# Company Info\n",
    "company_name = jd_soup.find(\"div\",{\"itemprop\":\"hiringOrganization\"}).contents[1].p.getText()\n",
    "print company_name"
   ]
  },
  {
   "cell_type": "markdown",
   "metadata": {},
   "source": [
    "Create a DF to store all the job level information:"
   ]
  },
  {
   "cell_type": "code",
   "execution_count": 101,
   "metadata": {
    "collapsed": false
   },
   "outputs": [],
   "source": [
    "naukri_df = pd.DataFrame()\n",
    "column_names = ['Location', 'Link', 'Job Description', 'Experience','Salary', 'Industry', 'Functional Area', 'Role Category', \n",
    "                'Design Role', 'Skills','Company Name', \n",
    "                'UG','PG','Doctorate']"
   ]
  },
  {
   "cell_type": "code",
   "execution_count": 102,
   "metadata": {
    "collapsed": false
   },
   "outputs": [
    {
     "data": {
      "text/plain": [
       "OrderedDict([('Skills',\n",
       "              u'Machine Learning|Natural Language Processing|NLP|Research|Statistical Models|Big data|Statistical Modeling '),\n",
       "             ('Experience', u'3 - 4 yrs'),\n",
       "             ('Job Description',\n",
       "              u'We are looking for a machine learning scientist who can use their skills to research, build and implement solutions in the field of natural language processing, automated answers, semantic knowledge extraction from structured data and unstructured text. You should have a deep love for Machine Learning, Natural Language processing and a strong desire to solve challenging problems.  Responsibilities :  - Using NLP and machine learning techniques to create scalable solutions.  - Researching and coming up with novel approaches to solve real world problems.  - Working closely with the engineering teams to drive real-time model implementations and new feature creations.'),\n",
       "             ('Link',\n",
       "              'https://www.naukri.com/job-listings-Machine-Learning-Scientist-Data-Science-Premium-Jobs-Mumbai-3-to-4-years-261116002864?src=jobsearchDesk&sid=14801799685391&xp=1'),\n",
       "             ('Location', u'Mumbai'),\n",
       "             ('Company Name', u'Premium-Jobs'),\n",
       "             ('Salary', u'Not Disclosed by Recruiter'),\n",
       "             ('Functional Area', u'Analytics & Business Intelligence'),\n",
       "             ('Industry', u'IT-Software  /    Software Services'),\n",
       "             ('Role Category', u'Analytics & BI'),\n",
       "             ('Design Role', u'Data Analyst'),\n",
       "             (u'UG', u'Any Graduate - Any Specialization'),\n",
       "             (u'Doctorate', u'Doctorate Not Required'),\n",
       "             ('PG', '')])"
      ]
     },
     "execution_count": 102,
     "metadata": {},
     "output_type": "execute_result"
    }
   ],
   "source": [
    "from collections import OrderedDict\n",
    "df_dict = OrderedDict({'Location':location, 'Link':all_links[0],'Job Description':jd_text,'Experience':experience,\n",
    "                       'Skills':key_skills,'Company Name':company_name})\n",
    "df_dict.update(role_info_dict)\n",
    "df_dict.update(edu_info_dict)\n",
    "df_dict"
   ]
  },
  {
   "cell_type": "code",
   "execution_count": 103,
   "metadata": {
    "collapsed": false
   },
   "outputs": [
    {
     "data": {
      "text/html": [
       "<div>\n",
       "<table border=\"1\" class=\"dataframe\">\n",
       "  <thead>\n",
       "    <tr style=\"text-align: right;\">\n",
       "      <th></th>\n",
       "      <th>Company Name</th>\n",
       "      <th>Design Role</th>\n",
       "      <th>Doctorate</th>\n",
       "      <th>Experience</th>\n",
       "      <th>Functional Area</th>\n",
       "      <th>Industry</th>\n",
       "      <th>Job Description</th>\n",
       "      <th>Link</th>\n",
       "      <th>Location</th>\n",
       "      <th>PG</th>\n",
       "      <th>Role Category</th>\n",
       "      <th>Salary</th>\n",
       "      <th>Skills</th>\n",
       "      <th>UG</th>\n",
       "    </tr>\n",
       "  </thead>\n",
       "  <tbody>\n",
       "    <tr>\n",
       "      <th>0</th>\n",
       "      <td>Premium-Jobs</td>\n",
       "      <td>Data Analyst</td>\n",
       "      <td>Doctorate Not Required</td>\n",
       "      <td>3 - 4 yrs</td>\n",
       "      <td>Analytics &amp; Business Intelligence</td>\n",
       "      <td>IT-Software  /    Software Services</td>\n",
       "      <td>We are looking for a machine learning scientis...</td>\n",
       "      <td>https://www.naukri.com/job-listings-Machine-Le...</td>\n",
       "      <td>Mumbai</td>\n",
       "      <td></td>\n",
       "      <td>Analytics &amp; BI</td>\n",
       "      <td>Not Disclosed by Recruiter</td>\n",
       "      <td>Machine Learning|Natural Language Processing|N...</td>\n",
       "      <td>Any Graduate - Any Specialization</td>\n",
       "    </tr>\n",
       "  </tbody>\n",
       "</table>\n",
       "</div>"
      ],
      "text/plain": [
       "   Company Name   Design Role               Doctorate Experience  \\\n",
       "0  Premium-Jobs  Data Analyst  Doctorate Not Required  3 - 4 yrs   \n",
       "\n",
       "                     Functional Area                             Industry  \\\n",
       "0  Analytics & Business Intelligence  IT-Software  /    Software Services   \n",
       "\n",
       "                                     Job Description  \\\n",
       "0  We are looking for a machine learning scientis...   \n",
       "\n",
       "                                                Link Location PG  \\\n",
       "0  https://www.naukri.com/job-listings-Machine-Le...   Mumbai      \n",
       "\n",
       "    Role Category                      Salary  \\\n",
       "0  Analytics & BI  Not Disclosed by Recruiter   \n",
       "\n",
       "                                              Skills  \\\n",
       "0  Machine Learning|Natural Language Processing|N...   \n",
       "\n",
       "                                  UG  \n",
       "0  Any Graduate - Any Specialization  "
      ]
     },
     "execution_count": 103,
     "metadata": {},
     "output_type": "execute_result"
    }
   ],
   "source": [
    "naukri_df = naukri_df.append(df_dict,ignore_index=True)\n",
    "naukri_df"
   ]
  },
  {
   "cell_type": "code",
   "execution_count": 104,
   "metadata": {
    "collapsed": false
   },
   "outputs": [
    {
     "data": {
      "text/html": [
       "<div>\n",
       "<table border=\"1\" class=\"dataframe\">\n",
       "  <thead>\n",
       "    <tr style=\"text-align: right;\">\n",
       "      <th></th>\n",
       "      <th>Location</th>\n",
       "      <th>Link</th>\n",
       "      <th>Job Description</th>\n",
       "      <th>Experience</th>\n",
       "      <th>Salary</th>\n",
       "      <th>Industry</th>\n",
       "      <th>Functional Area</th>\n",
       "      <th>Role Category</th>\n",
       "      <th>Design Role</th>\n",
       "      <th>Skills</th>\n",
       "      <th>Company Name</th>\n",
       "      <th>UG</th>\n",
       "      <th>PG</th>\n",
       "      <th>Doctorate</th>\n",
       "    </tr>\n",
       "  </thead>\n",
       "  <tbody>\n",
       "    <tr>\n",
       "      <th>0</th>\n",
       "      <td>Mumbai</td>\n",
       "      <td>https://www.naukri.com/job-listings-Machine-Le...</td>\n",
       "      <td>We are looking for a machine learning scientis...</td>\n",
       "      <td>3 - 4 yrs</td>\n",
       "      <td>Not Disclosed by Recruiter</td>\n",
       "      <td>IT-Software  /    Software Services</td>\n",
       "      <td>Analytics &amp; Business Intelligence</td>\n",
       "      <td>Analytics &amp; BI</td>\n",
       "      <td>Data Analyst</td>\n",
       "      <td>Machine Learning|Natural Language Processing|N...</td>\n",
       "      <td>Premium-Jobs</td>\n",
       "      <td>Any Graduate - Any Specialization</td>\n",
       "      <td></td>\n",
       "      <td>Doctorate Not Required</td>\n",
       "    </tr>\n",
       "  </tbody>\n",
       "</table>\n",
       "</div>"
      ],
      "text/plain": [
       "  Location                                               Link  \\\n",
       "0   Mumbai  https://www.naukri.com/job-listings-Machine-Le...   \n",
       "\n",
       "                                     Job Description Experience  \\\n",
       "0  We are looking for a machine learning scientis...  3 - 4 yrs   \n",
       "\n",
       "                       Salary                             Industry  \\\n",
       "0  Not Disclosed by Recruiter  IT-Software  /    Software Services   \n",
       "\n",
       "                     Functional Area   Role Category   Design Role  \\\n",
       "0  Analytics & Business Intelligence  Analytics & BI  Data Analyst   \n",
       "\n",
       "                                              Skills  Company Name  \\\n",
       "0  Machine Learning|Natural Language Processing|N...  Premium-Jobs   \n",
       "\n",
       "                                  UG PG               Doctorate  \n",
       "0  Any Graduate - Any Specialization     Doctorate Not Required  "
      ]
     },
     "execution_count": 104,
     "metadata": {},
     "output_type": "execute_result"
    }
   ],
   "source": [
    "# Reordering the columns to a preferred order as specified\n",
    "naukri_df = naukri_df.reindex(columns=column_names)\n",
    "naukri_df"
   ]
  },
  {
   "cell_type": "code",
   "execution_count": null,
   "metadata": {
    "collapsed": true
   },
   "outputs": [],
   "source": []
  },
  {
   "cell_type": "code",
   "execution_count": null,
   "metadata": {
    "collapsed": true
   },
   "outputs": [],
   "source": []
  },
  {
   "cell_type": "markdown",
   "metadata": {},
   "source": [
    "Next we put all of the above bits and pieces into 1 single function to extract info about all ML jobs on the site:"
   ]
  },
  {
   "cell_type": "markdown",
   "metadata": {},
   "source": [
    "Lets first check the total number of machine learning jobs posted on the site. This information is present within the tag on the top of the page: <code> div class=\"count\" </code>"
   ]
  },
  {
   "cell_type": "code",
   "execution_count": 33,
   "metadata": {
    "collapsed": false
   },
   "outputs": [
    {
     "name": "stdout",
     "output_type": "stream",
     "text": [
      "1-50 of 2890\n"
     ]
    }
   ],
   "source": [
    "print soup.find(\"div\", { \"class\" : \"count\" }).h1.contents[1].getText()"
   ]
  },
  {
   "cell_type": "code",
   "execution_count": 34,
   "metadata": {
    "collapsed": false
   },
   "outputs": [
    {
     "name": "stdout",
     "output_type": "stream",
     "text": [
      "2890\n"
     ]
    }
   ],
   "source": [
    "num_jobs = int(soup.find(\"div\", { \"class\" : \"count\" }).h1.contents[1].getText().split(' ')[-1])\n",
    "print num_jobs"
   ]
  },
  {
   "cell_type": "markdown",
   "metadata": {},
   "source": [
    "Each page has 50 job postings, which means that the total number of jobs can be calcuated as follows:"
   ]
  },
  {
   "cell_type": "code",
   "execution_count": 36,
   "metadata": {
    "collapsed": false
   },
   "outputs": [
    {
     "name": "stdout",
     "output_type": "stream",
     "text": [
      "URL of the last page to be scraped: http://www.naukri.com/machine-learning-jobs-58\n"
     ]
    }
   ],
   "source": [
    "num_pages = int(math.ceil(num_jobs/50.0))\n",
    "print \"URL of the last page to be scraped:\", base_url + str(num_pages)"
   ]
  },
  {
   "cell_type": "code",
   "execution_count": null,
   "metadata": {
    "collapsed": true
   },
   "outputs": [],
   "source": [
    "# Together into one function\n",
    "import bs4\n",
    "import urllib2\n",
    "import pandas as pd\n",
    "import math\n",
    "import time\n",
    "from pandas import DataFrame\n",
    "from collections import OrderedDict\n",
    "import cPickle\n",
    "\n",
    "# Base URL \n",
    "base_url = 'http://www.naukri.com/machine-learning-jobs-'\n",
    "source = urllib2.urlopen(base_url).read()\n",
    "\n",
    "soup = bs4.BeautifulSoup(source, \"lxml\")\n",
    "num_jobs = int(soup.find(\"div\", { \"class\" : \"count\" }).h1.contents[1].getText().split(' ')[-1])\n",
    "num_pages = int(math.ceil(num_jobs/50.0))\n",
    "\n",
    "# Together into one function\n",
    "labels = ['Salary', 'Industry', 'Functional Area', 'Role Category', 'Design Role']\n",
    "edu_labels = ['UG', 'PG', 'Doctorate']\n",
    "naukri_df = pd.DataFrame()\n",
    "           \n",
    "for page in range(1,num_pages+1):\n",
    "    page_url = base_url+str(page)\n",
    "    source = urllib2.urlopen(page_url).read()\n",
    "    soup = bs4.BeautifulSoup(source,\"lxml\")\n",
    "    all_links = [link.get('href') for link in soup.findAll('a') if 'job-listings' in  str(link.get('href'))]\n",
    "    for url in all_links:\n",
    "        jd_source = urllib2.urlopen(url).read()\n",
    "        jd_soup = bs4.BeautifulSoup(jd_source,\"lxml\")\n",
    "        try:\n",
    "            jd_text = jd_soup.find(\"ul\",{\"itemprop\":\"description\"}).getText().strip()\n",
    "            location = jd_soup.find(\"div\",{\"class\":\"loc\"}).getText().strip()\n",
    "            experience = jd_soup.find(\"span\",{\"itemprop\":\"experienceRequirements\"}).getText().strip()\n",
    "            \n",
    "            role_info = [content.getText().split(':')[-1].strip() for content in jd_soup.find(\"div\",{\"class\":\"jDisc mt20\"}).contents if len(str(content).replace(' ',''))!=0]\n",
    "            role_info_dict = {label: role_info for label, role_info in zip(labels, role_info)}\n",
    "            \n",
    "            key_skills = '|'.join(jd_soup.find(\"div\",{\"class\":\"ksTags\"}).getText().split('  '))[1:]\n",
    "\n",
    "            edu_info = [content.getText().split(':') for content in jd_soup.find(\"div\",{\"itemprop\":\"educationRequirements\"}).contents if len(str(content).replace(' ',''))!=0]\n",
    "            edu_info_dict = {label.strip(): edu_info.strip() for label, edu_info in edu_info}\n",
    "            for l in edu_labels:\n",
    "                if l not in edu_info_dict.keys():\n",
    "                    edu_info_dict[l] = ''\n",
    "\n",
    "            company_name = jd_soup.find(\"div\",{\"itemprop\":\"hiringOrganization\"}).contents[1].p.getText().strip()\n",
    "        \n",
    "        except AttributeError:\n",
    "            continue\n",
    "        df_dict = OrderedDict({'Location':location, 'Link':url,'Job Description':jd_text,'Experience':experience,'Skills':key_skills,'Company Name':company_name})\n",
    "        df_dict.update(role_info_dict)\n",
    "        df_dict.update(edu_info_dict)\n",
    "        naukri_df = naukri_df.append(df_dict,ignore_index=True)\n",
    "        time.sleep(1)\n",
    "    print page\n",
    "    "
   ]
  },
  {
   "cell_type": "markdown",
   "metadata": {},
   "source": [
    "In order to work with this data at a later point in time, we could save it as a csv file. A better was to do this is to save the dataframe as a pickle object using cPickle library. By doing this we can store and retrieve the data as a Python object (i.e., Pandas dataframe). "
   ]
  },
  {
   "cell_type": "code",
   "execution_count": null,
   "metadata": {
    "collapsed": true
   },
   "outputs": [],
   "source": [
    "import cPickle\n",
    "column_names = ['Location', 'Link', 'Job Description', 'Experience','Salary', 'Industry', 'Functional Area', 'Role Category', \n",
    "                'Design Role', 'Skills', 'Company Name',\n",
    "                'UG','PG','Doctorate']\n",
    "\n",
    "naukri_df = naukri_df.reindex(columns=column_names)        \n",
    "with open('naukri_dataframe.pkl', 'wb') as f:\n",
    "    cPickle.dump(naukri_df, f)            "
   ]
  },
  {
   "cell_type": "code",
   "execution_count": 108,
   "metadata": {
    "collapsed": true
   },
   "outputs": [],
   "source": [
    "with open('naukri_dataframe.pkl', 'r') as f:\n",
    "    naukri_df = cPickle.load(f) "
   ]
  },
  {
   "cell_type": "markdown",
   "metadata": {},
   "source": [
    "Ideally we were supposed to have 2890 ML job postings. However, as shown below, we could only retrieve 1627 of them. The reason the remaining pages had to be skipped was that they would have a different HTML structure than the standard one on the website (the one which we had specified to extract the attributes). This is one of the disadvantages of scraping the web by parsing the elements of an HTML tree. Even if any one of the tag that we specified did not exist this would be noted as exception and we skip to the next iteration."
   ]
  },
  {
   "cell_type": "code",
   "execution_count": 117,
   "metadata": {
    "collapsed": false
   },
   "outputs": [
    {
     "data": {
      "text/plain": [
       "(1627, 14)"
      ]
     },
     "execution_count": 117,
     "metadata": {},
     "output_type": "execute_result"
    }
   ],
   "source": [
    "naukri_df.shape"
   ]
  },
  {
   "cell_type": "code",
   "execution_count": 118,
   "metadata": {
    "collapsed": false
   },
   "outputs": [
    {
     "data": {
      "text/html": [
       "<div>\n",
       "<table border=\"1\" class=\"dataframe\">\n",
       "  <thead>\n",
       "    <tr style=\"text-align: right;\">\n",
       "      <th></th>\n",
       "      <th>Location</th>\n",
       "      <th>Link</th>\n",
       "      <th>Job Description</th>\n",
       "      <th>Experience</th>\n",
       "      <th>Salary</th>\n",
       "      <th>Industry</th>\n",
       "      <th>Functional Area</th>\n",
       "      <th>Role Category</th>\n",
       "      <th>Design Role</th>\n",
       "      <th>Skills</th>\n",
       "      <th>Company Name</th>\n",
       "      <th>UG</th>\n",
       "      <th>PG</th>\n",
       "      <th>Doctorate</th>\n",
       "    </tr>\n",
       "  </thead>\n",
       "  <tbody>\n",
       "    <tr>\n",
       "      <th>0</th>\n",
       "      <td>Mumbai</td>\n",
       "      <td>https://www.naukri.com/job-listings-Machine-Le...</td>\n",
       "      <td>We are looking for a machine learning scientis...</td>\n",
       "      <td>3 - 4 yrs</td>\n",
       "      <td>Not Disclosed by Recruiter</td>\n",
       "      <td>IT-Software  /    Software Services</td>\n",
       "      <td>Analytics &amp; Business Intelligence</td>\n",
       "      <td>Analytics &amp; BI</td>\n",
       "      <td>Data Analyst</td>\n",
       "      <td>Machine Learning|Natural Language Processing|N...</td>\n",
       "      <td>Premium-Jobs</td>\n",
       "      <td>Any Graduate - Any Specialization</td>\n",
       "      <td></td>\n",
       "      <td>Doctorate Not Required</td>\n",
       "    </tr>\n",
       "    <tr>\n",
       "      <th>1</th>\n",
       "      <td>Bengaluru</td>\n",
       "      <td>https://www.naukri.com/job-listings-Machine-Le...</td>\n",
       "      <td>Research &amp; Development (R&amp;D) Engineer  Job des...</td>\n",
       "      <td>2 - 5 yrs</td>\n",
       "      <td>INR  10,00,000 - 15,00,000 P.A</td>\n",
       "      <td>IT-Software  /    Software Services</td>\n",
       "      <td>IT Software - Application Programming   ,     ...</td>\n",
       "      <td>Programming &amp; Design</td>\n",
       "      <td>Software Developer</td>\n",
       "      <td>Algorithms|Machine Learning|Python|Artificial ...</td>\n",
       "      <td>IPsoft Global Services Private Limited</td>\n",
       "      <td>B.Tech/B.E. - Computers</td>\n",
       "      <td></td>\n",
       "      <td></td>\n",
       "    </tr>\n",
       "    <tr>\n",
       "      <th>2</th>\n",
       "      <td>Bengaluru</td>\n",
       "      <td>https://www.naukri.com/job-listings-Software-E...</td>\n",
       "      <td>Work in cohesion with the R&amp;D team towards bui...</td>\n",
       "      <td>1 - 5 yrs</td>\n",
       "      <td>Not Disclosed by Recruiter</td>\n",
       "      <td>IT-Software  /    Software Services</td>\n",
       "      <td>IT Software - DBA   ,     Datawarehousing</td>\n",
       "      <td>Programming &amp; Design</td>\n",
       "      <td>Software Developer</td>\n",
       "      <td>R|D|Machine Learning|NLP|Software Engineering|...</td>\n",
       "      <td>Premium-Jobs</td>\n",
       "      <td>Any Graduate - Any Specialization</td>\n",
       "      <td></td>\n",
       "      <td>Doctorate Not Required</td>\n",
       "    </tr>\n",
       "    <tr>\n",
       "      <th>3</th>\n",
       "      <td>Bengaluru</td>\n",
       "      <td>https://www.naukri.com/job-listings-Scala-Deve...</td>\n",
       "      <td>* I am looking to hire talented young develope...</td>\n",
       "      <td>3 - 4 yrs</td>\n",
       "      <td>Not Disclosed by Recruiter</td>\n",
       "      <td>Internet  /    Ecommerce</td>\n",
       "      <td>IT Software - DBA   ,     Datawarehousing</td>\n",
       "      <td>Programming &amp; Design</td>\n",
       "      <td>Software Developer</td>\n",
       "      <td>Java|Hadoop|LISP|SCALA|Programming|Machine Lea...</td>\n",
       "      <td>Pin Click - Startup</td>\n",
       "      <td>B.Tech/B.E. - Any Specialization</td>\n",
       "      <td></td>\n",
       "      <td>Doctorate Not Required</td>\n",
       "    </tr>\n",
       "    <tr>\n",
       "      <th>4</th>\n",
       "      <td>Bengaluru</td>\n",
       "      <td>https://www.naukri.com/job-listings-R-D-Engine...</td>\n",
       "      <td>Responsibilities:  \\tThe ideal candidate will ...</td>\n",
       "      <td>1 - 6 yrs</td>\n",
       "      <td>INR  6,50,000 - 12,00,000 P.A</td>\n",
       "      <td>IT-Software  /    Software Services</td>\n",
       "      <td>IT Software - Application Programming   ,     ...</td>\n",
       "      <td>Programming &amp; Design</td>\n",
       "      <td>Software Developer</td>\n",
       "      <td>Java|Maven|JUnit|Ant|Tomcat|Spring|Eclipse|JDB...</td>\n",
       "      <td>IPsoft Global Services Private Limited</td>\n",
       "      <td>B.Tech/B.E. - Any Specialization, Computers, M...</td>\n",
       "      <td>Any Postgraduate</td>\n",
       "      <td></td>\n",
       "    </tr>\n",
       "  </tbody>\n",
       "</table>\n",
       "</div>"
      ],
      "text/plain": [
       "    Location                                               Link  \\\n",
       "0     Mumbai  https://www.naukri.com/job-listings-Machine-Le...   \n",
       "1  Bengaluru  https://www.naukri.com/job-listings-Machine-Le...   \n",
       "2  Bengaluru  https://www.naukri.com/job-listings-Software-E...   \n",
       "3  Bengaluru  https://www.naukri.com/job-listings-Scala-Deve...   \n",
       "4  Bengaluru  https://www.naukri.com/job-listings-R-D-Engine...   \n",
       "\n",
       "                                     Job Description Experience  \\\n",
       "0  We are looking for a machine learning scientis...  3 - 4 yrs   \n",
       "1  Research & Development (R&D) Engineer  Job des...  2 - 5 yrs   \n",
       "2  Work in cohesion with the R&D team towards bui...  1 - 5 yrs   \n",
       "3  * I am looking to hire talented young develope...  3 - 4 yrs   \n",
       "4  Responsibilities:  \\tThe ideal candidate will ...  1 - 6 yrs   \n",
       "\n",
       "                           Salary                             Industry  \\\n",
       "0      Not Disclosed by Recruiter  IT-Software  /    Software Services   \n",
       "1  INR  10,00,000 - 15,00,000 P.A  IT-Software  /    Software Services   \n",
       "2      Not Disclosed by Recruiter  IT-Software  /    Software Services   \n",
       "3      Not Disclosed by Recruiter             Internet  /    Ecommerce   \n",
       "4   INR  6,50,000 - 12,00,000 P.A  IT-Software  /    Software Services   \n",
       "\n",
       "                                     Functional Area         Role Category  \\\n",
       "0                  Analytics & Business Intelligence        Analytics & BI   \n",
       "1  IT Software - Application Programming   ,     ...  Programming & Design   \n",
       "2          IT Software - DBA   ,     Datawarehousing  Programming & Design   \n",
       "3          IT Software - DBA   ,     Datawarehousing  Programming & Design   \n",
       "4  IT Software - Application Programming   ,     ...  Programming & Design   \n",
       "\n",
       "          Design Role                                             Skills  \\\n",
       "0        Data Analyst  Machine Learning|Natural Language Processing|N...   \n",
       "1  Software Developer  Algorithms|Machine Learning|Python|Artificial ...   \n",
       "2  Software Developer  R|D|Machine Learning|NLP|Software Engineering|...   \n",
       "3  Software Developer  Java|Hadoop|LISP|SCALA|Programming|Machine Lea...   \n",
       "4  Software Developer  Java|Maven|JUnit|Ant|Tomcat|Spring|Eclipse|JDB...   \n",
       "\n",
       "                             Company Name  \\\n",
       "0                            Premium-Jobs   \n",
       "1  IPsoft Global Services Private Limited   \n",
       "2                            Premium-Jobs   \n",
       "3                     Pin Click - Startup   \n",
       "4  IPsoft Global Services Private Limited   \n",
       "\n",
       "                                                  UG                PG  \\\n",
       "0                  Any Graduate - Any Specialization                     \n",
       "1                            B.Tech/B.E. - Computers                     \n",
       "2                  Any Graduate - Any Specialization                     \n",
       "3                   B.Tech/B.E. - Any Specialization                     \n",
       "4  B.Tech/B.E. - Any Specialization, Computers, M...  Any Postgraduate   \n",
       "\n",
       "                Doctorate  \n",
       "0  Doctorate Not Required  \n",
       "1                          \n",
       "2  Doctorate Not Required  \n",
       "3  Doctorate Not Required  \n",
       "4                          "
      ]
     },
     "execution_count": 118,
     "metadata": {},
     "output_type": "execute_result"
    }
   ],
   "source": [
    "naukri_df.head()"
   ]
  },
  {
   "cell_type": "code",
   "execution_count": null,
   "metadata": {
    "collapsed": true
   },
   "outputs": [],
   "source": [
    "s"
   ]
  }
 ],
 "metadata": {
  "kernelspec": {
   "display_name": "base",
   "language": "python",
   "name": "python3"
  },
  "language_info": {
   "codemirror_mode": {
    "name": "ipython",
    "version": 3
   },
   "file_extension": ".py",
   "mimetype": "text/x-python",
   "name": "python",
   "nbconvert_exporter": "python",
   "pygments_lexer": "ipython3",
   "version": "3.11.5"
  }
 },
 "nbformat": 4,
 "nbformat_minor": 1
}
