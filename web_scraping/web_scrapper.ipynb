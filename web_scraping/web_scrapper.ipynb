{
 "cells": [
  {
   "cell_type": "code",
   "execution_count": 1,
   "metadata": {},
   "outputs": [],
   "source": [
    "# alma better web scraping live session"
   ]
  },
  {
   "cell_type": "code",
   "execution_count": 2,
   "metadata": {},
   "outputs": [],
   "source": [
    "from bs4 import BeautifulSoup"
   ]
  },
  {
   "cell_type": "code",
   "execution_count": 6,
   "metadata": {},
   "outputs": [],
   "source": [
    "html_doc=\"\"\"\n",
    "\n",
    "<html>\n",
    "<head>\n",
    "<title>My web pages</title>\n",
    "</head>\n",
    "<body>\n",
    "\n",
    "<h1 welcome to my web page</h1>\n",
    "<p>my para</p>\n",
    "\n",
    "\n",
    "<ul>\n",
    "<li>item1</li>\n",
    "<li>item2</li>\n",
    "<li>item3</li>\n",
    "</ul>\n",
    "</body>\n",
    "</html>\n",
    "\"\"\"\n",
    "\n"
   ]
  },
  {
   "cell_type": "code",
   "execution_count": 7,
   "metadata": {},
   "outputs": [
    {
     "name": "stdout",
     "output_type": "stream",
     "text": [
      "<html>\n",
      " <head>\n",
      "  <title>\n",
      "   My web pages\n",
      "  </title>\n",
      " </head>\n",
      " <body>\n",
      "  <h1 h1=\"\" my=\"\" page<=\"\" to=\"\" web=\"\" welcome=\"\">\n",
      "   <p>\n",
      "    my para\n",
      "   </p>\n",
      "   <ul>\n",
      "    <li>\n",
      "     item1\n",
      "    </li>\n",
      "    <li>\n",
      "     item2\n",
      "    </li>\n",
      "    <li>\n",
      "     item3\n",
      "    </li>\n",
      "   </ul>\n",
      "  </h1>\n",
      " </body>\n",
      "</html>\n",
      "\n"
     ]
    }
   ],
   "source": [
    "soup=BeautifulSoup(html_doc,'html.parser')\n",
    "print(soup.prettify())"
   ]
  },
  {
   "cell_type": "code",
   "execution_count": 12,
   "metadata": {},
   "outputs": [
    {
     "name": "stdout",
     "output_type": "stream",
     "text": [
      "\n",
      "my para\n",
      "\n",
      "item1\n",
      "item2\n",
      "item3\n",
      "\n",
      "\n"
     ]
    }
   ],
   "source": [
    "h1_tag=soup.find('h1')\n",
    "print(h1_tag.text)"
   ]
  },
  {
   "cell_type": "code",
   "execution_count": 13,
   "metadata": {},
   "outputs": [
    {
     "name": "stdout",
     "output_type": "stream",
     "text": [
      "\n",
      "item1\n",
      "item2\n",
      "item3\n",
      "\n"
     ]
    }
   ],
   "source": [
    "h1_tag=soup.find('ul')\n",
    "print(h1_tag.text)"
   ]
  },
  {
   "cell_type": "code",
   "execution_count": 14,
   "metadata": {},
   "outputs": [
    {
     "name": "stdout",
     "output_type": "stream",
     "text": [
      "\n",
      "\n",
      "My web pages\n",
      "\n",
      "\n",
      "\n",
      "my para\n",
      "\n",
      "item1\n",
      "item2\n",
      "item3\n",
      "\n",
      "\n",
      "\n"
     ]
    }
   ],
   "source": [
    "h1_tag=soup.find('html')\n",
    "print(h1_tag.text)"
   ]
  },
  {
   "cell_type": "code",
   "execution_count": 17,
   "metadata": {},
   "outputs": [
    {
     "name": "stdout",
     "output_type": "stream",
     "text": [
      "My web pages\n",
      "\n",
      "my para\n",
      "\n",
      "item1\n",
      "item2\n",
      "item3\n",
      "\n",
      "\n",
      "my para\n",
      "\n",
      "item1\n",
      "item2\n",
      "item3\n",
      "\n"
     ]
    }
   ],
   "source": [
    "list_of_tags=['title','h1','p','ul']\n",
    "\n",
    "for i in list_of_tags:\n",
    "    data=soup.find(i)\n",
    "    print(data.text)"
   ]
  },
  {
   "cell_type": "code",
   "execution_count": 20,
   "metadata": {},
   "outputs": [
    {
     "name": "stdout",
     "output_type": "stream",
     "text": [
      "[<ul>\n",
      "<li>item1</li>\n",
      "<li>item2</li>\n",
      "<li>item3</li>\n",
      "</ul>]\n",
      "\n",
      "item1\n",
      "item2\n",
      "item3\n",
      "\n"
     ]
    }
   ],
   "source": [
    "h1_tag=soup.find_all('ul')\n",
    "print(h1_tag)\n",
    "\n",
    "for ele in h1_tag:\n",
    "    print(ele.text)"
   ]
  },
  {
   "cell_type": "code",
   "execution_count": 25,
   "metadata": {},
   "outputs": [],
   "source": [
    "# load the projectpro webpage content \n",
    "import requests \n",
    "\n",
    "from bs4 import BeautifulSoup as bs\n",
    "response = requests.get('https://en.wikipedia.org/wiki/Pretwa') \n"
   ]
  },
  {
   "cell_type": "code",
   "execution_count": 34,
   "metadata": {},
   "outputs": [
    {
     "name": "stdout",
     "output_type": "stream",
     "text": [
      "None\n"
     ]
    }
   ],
   "source": [
    "soup=bs(response.text,'html.parser')\n",
    "setup=soup.find('span',class_='mw-mw-editsection')\n",
    "print(setup)"
   ]
  },
  {
   "cell_type": "code",
   "execution_count": 33,
   "metadata": {},
   "outputs": [
    {
     "data": {
      "text/plain": [
       "<p>The board consist of three concentric circles divided by three diameters that are equally spaced apart from one another (see diagram).  This produces 19 intersection points (hereforth called \"points\").  The intersection of the three diameters forms the central point of the board.  Pieces are situated on the points, and move and capture along the lines of the board.\n",
       "</p>"
      ]
     },
     "execution_count": 33,
     "metadata": {},
     "output_type": "execute_result"
    }
   ],
   "source": [
    "soup=bs(response.text,'html.parser')\n",
    "div_tag=soup.find('div',class_=\"mw-parser_output\")\n",
    "parse=soup.find_all('p')\n",
    "parse[2]"
   ]
  },
  {
   "cell_type": "code",
   "execution_count": 35,
   "metadata": {},
   "outputs": [],
   "source": [
    "################################"
   ]
  },
  {
   "cell_type": "code",
   "execution_count": 38,
   "metadata": {},
   "outputs": [
    {
     "name": "stdout",
     "output_type": "stream",
     "text": [
      "<Response [403]>\n"
     ]
    }
   ],
   "source": [
    "url=\"https://www.imdb.com/chart/top/\"\n",
    "response=requests.get(url)\n",
    "print(response) # test"
   ]
  },
  {
   "cell_type": "code",
   "execution_count": null,
   "metadata": {},
   "outputs": [],
   "source": []
  }
 ],
 "metadata": {
  "kernelspec": {
   "display_name": "base",
   "language": "python",
   "name": "python3"
  },
  "language_info": {
   "codemirror_mode": {
    "name": "ipython",
    "version": 3
   },
   "file_extension": ".py",
   "mimetype": "text/x-python",
   "name": "python",
   "nbconvert_exporter": "python",
   "pygments_lexer": "ipython3",
   "version": "3.11.5"
  }
 },
 "nbformat": 4,
 "nbformat_minor": 2
}
